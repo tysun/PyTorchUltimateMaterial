{
 "cells": [
  {
   "cell_type": "code",
   "execution_count": null,
   "id": "f5f1a0e3",
   "metadata": {
    "tags": [],
    "title": "packages"
   },
   "outputs": [],
   "source": [
    "import numpy as np\n",
    "import pandas as pd\n",
    "import torch\n",
    "import torch.nn as nn \n",
    "import seaborn as sns"
   ]
  },
  {
   "cell_type": "code",
   "execution_count": null,
   "id": "49864450",
   "metadata": {
    "tags": [],
    "title": "data import"
   },
   "outputs": [],
   "source": [
    "cars_file = 'https://gist.githubusercontent.com/noamross/e5d3e859aa0c794be10b/raw/b999fb4425b54c63cab088c0ce2c0d6ce961a563/cars.csv'\n",
    "cars = pd.read_csv(cars_file)\n",
    "cars.head()"
   ]
  },
  {
   "cell_type": "code",
   "execution_count": null,
   "id": "313e5675",
   "metadata": {
    "tags": [],
    "title": "visualise the model"
   },
   "outputs": [],
   "source": [
    "sns.scatterplot(x='wt', y='mpg', data=cars)\n",
    "sns.regplot(x='wt', y='mpg', data=cars)"
   ]
  },
  {
   "cell_type": "code",
   "execution_count": null,
   "id": "c4547220",
   "metadata": {
    "lines_to_next_cell": 2,
    "tags": [],
    "title": "convert data to tensor"
   },
   "outputs": [],
   "source": [
    "X_list = cars.wt.values\n",
    "X_np = np.array(X_list, dtype=np.float32).reshape(-1,1)\n",
    "y_list = cars.mpg.values.tolist()\n",
    "y_np = np.array(y_list, dtype=np.float32).reshape(-1,1)\n",
    "X = torch.from_numpy(X_np)\n",
    "y = torch.tensor(y_list)"
   ]
  },
  {
   "cell_type": "code",
   "execution_count": null,
   "id": "8a38dafe",
   "metadata": {
    "tags": [],
    "title": "training"
   },
   "outputs": [],
   "source": [
    "w = torch.rand(1, requires_grad=True, dtype=torch.float64)\n",
    "b = torch.rand(1, requires_grad=True, dtype=torch.float64)\n",
    "\n",
    "num_epochs = 100\n",
    "learning_rate = 1e-3\n",
    "for epoch in range(num_epochs):\n",
    "  for i in range(len(X)):\n",
    "    # x, y = torch.tensor(X_list[i]), torch.tensor(y_list[i])\n",
    "    # forward pass\n",
    "    y_predict = X[i] * w + b\n",
    "    # calculate loss\n",
    "    loss_tensor = torch.pow(y_predict - y[i], 2)\n",
    "    # backward pass\n",
    "    loss_tensor.backward()\n",
    "    # extract losses\n",
    "    loss_value = loss_tensor.data[0]\n",
    "    # update weights and biases\n",
    "    with torch.no_grad():\n",
    "      w -= w.grad * learning_rate\n",
    "      b -= b.grad * learning_rate\n",
    "      w.grad.zero_()\n",
    "      b.grad.zero_()\n",
    "  print(loss_value)"
   ]
  },
  {
   "cell_type": "code",
   "execution_count": null,
   "id": "513449f5",
   "metadata": {
    "lines_to_next_cell": 0,
    "title": "check results"
   },
   "outputs": [],
   "source": [
    "print(f\"Weight: {w.item()}, Bias: {b.item()}\")"
   ]
  },
  {
   "cell_type": "code",
   "execution_count": null,
   "id": "d6e66a7c",
   "metadata": {
    "lines_to_next_cell": 0
   },
   "outputs": [],
   "source": [
    "y_pred = (torch.tensor(X_list)*w+b).detach().numpy()"
   ]
  },
  {
   "cell_type": "code",
   "execution_count": null,
   "id": "6e8bbc63",
   "metadata": {
    "lines_to_next_cell": 0
   },
   "outputs": [],
   "source": [
    "sns.scatterplot(x=X_list, y=y_list)\n",
    "sns.lineplot(x=X_list, y=y_pred, color='red')"
   ]
  },
  {
   "cell_type": "code",
   "execution_count": null,
   "id": "249a6b36",
   "metadata": {
    "lines_to_next_cell": 2,
    "title": "(Statistical) Linear Regression"
   },
   "outputs": [],
   "source": [
    "from sklearn.linear_model import LinearRegression\n",
    "reg = LinearRegression().fit(X_np, y_list)\n",
    "print(f\"Slope: {reg.coef_}, Bias: {reg.intercept_}\")"
   ]
  },
  {
   "cell_type": "code",
   "execution_count": null,
   "id": "91ea3359-9cb3-4654-9058-7b3227e8bb56",
   "metadata": {
    "tags": []
   },
   "outputs": [],
   "source": [
    "#import os\n",
    "#os.environ['PATH']"
   ]
  },
  {
   "cell_type": "code",
   "execution_count": null,
   "id": "ebcbc707-4468-4496-afa6-029101685eb3",
   "metadata": {
    "tags": []
   },
   "outputs": [],
   "source": [
    "%pip uninstall torchviz # installed in site-packages\n",
    "%conda uninstall -c conda-forge graphviz # installed in /opt/conda/"
   ]
  },
  {
   "cell_type": "code",
   "execution_count": null,
   "id": "11e00c0f",
   "metadata": {
    "lines_to_next_cell": 0,
    "title": "create graph visualisation"
   },
   "outputs": [],
   "source": [
    "# make sure GraphViz is installed (https://graphviz.org/download/)\n",
    "# if not computer restarted, append directly to PATH variable\n",
    "import os\n",
    "from torchviz import make_dot\n",
    "os.environ['PATH'] += os.pathsep + '/opt/conda/'\n",
    "make_dot(loss_tensor)"
   ]
  },
  {
   "cell_type": "code",
   "execution_count": null,
   "id": "33f55c19",
   "metadata": {},
   "outputs": [],
   "source": []
  }
 ],
 "metadata": {
  "instance_type": "ml.t3.medium",
  "jupytext": {
   "cell_metadata_filter": "title,-all",
   "main_language": "python",
   "notebook_metadata_filter": "-all"
  },
  "kernelspec": {
   "display_name": "Python 3 (PyTorch 1.8 Python 3.6 GPU Optimized)",
   "language": "python",
   "name": "python3__SAGEMAKER_INTERNAL__arn:aws:sagemaker:us-west-2:236514542706:image/pytorch-1.8-gpu-py36"
  },
  "language_info": {
   "codemirror_mode": {
    "name": "ipython",
    "version": 3
   },
   "file_extension": ".py",
   "mimetype": "text/x-python",
   "name": "python",
   "nbconvert_exporter": "python",
   "pygments_lexer": "ipython3",
   "version": "3.6.13"
  }
 },
 "nbformat": 4,
 "nbformat_minor": 5
}

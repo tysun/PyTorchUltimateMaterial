{
 "cells": [
  {
   "cell_type": "code",
   "execution_count": 2,
   "id": "f5f1a0e3",
   "metadata": {
    "tags": [],
    "title": "packages"
   },
   "outputs": [
    {
     "name": "stderr",
     "output_type": "stream",
     "text": [
      "/opt/conda/lib/python3.8/site-packages/tqdm/auto.py:22: TqdmWarning: IProgress not found. Please update jupyter and ipywidgets. See https://ipywidgets.readthedocs.io/en/stable/user_install.html\n",
      "  from .autonotebook import tqdm as notebook_tqdm\n"
     ]
    },
    {
     "name": "stdout",
     "output_type": "stream",
     "text": [
      "1.12.1+cu113\n"
     ]
    }
   ],
   "source": [
    "import numpy as np\n",
    "import pandas as pd\n",
    "import torch\n",
    "import torch.nn as nn \n",
    "import seaborn as sns\n",
    "\n",
    "print(torch.version.__version__)"
   ]
  },
  {
   "cell_type": "code",
   "execution_count": 3,
   "id": "49864450",
   "metadata": {
    "tags": [],
    "title": "data import"
   },
   "outputs": [
    {
     "data": {
      "text/html": [
       "<div>\n",
       "<style scoped>\n",
       "    .dataframe tbody tr th:only-of-type {\n",
       "        vertical-align: middle;\n",
       "    }\n",
       "\n",
       "    .dataframe tbody tr th {\n",
       "        vertical-align: top;\n",
       "    }\n",
       "\n",
       "    .dataframe thead th {\n",
       "        text-align: right;\n",
       "    }\n",
       "</style>\n",
       "<table border=\"1\" class=\"dataframe\">\n",
       "  <thead>\n",
       "    <tr style=\"text-align: right;\">\n",
       "      <th></th>\n",
       "      <th>Unnamed: 0</th>\n",
       "      <th>mpg</th>\n",
       "      <th>cyl</th>\n",
       "      <th>disp</th>\n",
       "      <th>hp</th>\n",
       "      <th>drat</th>\n",
       "      <th>wt</th>\n",
       "      <th>qsec</th>\n",
       "      <th>vs</th>\n",
       "      <th>am</th>\n",
       "      <th>gear</th>\n",
       "      <th>carb</th>\n",
       "    </tr>\n",
       "  </thead>\n",
       "  <tbody>\n",
       "    <tr>\n",
       "      <th>0</th>\n",
       "      <td>Mazda RX4</td>\n",
       "      <td>21.0</td>\n",
       "      <td>6</td>\n",
       "      <td>160.0</td>\n",
       "      <td>110</td>\n",
       "      <td>3.90</td>\n",
       "      <td>2.620</td>\n",
       "      <td>16.46</td>\n",
       "      <td>0</td>\n",
       "      <td>1</td>\n",
       "      <td>4</td>\n",
       "      <td>4</td>\n",
       "    </tr>\n",
       "    <tr>\n",
       "      <th>1</th>\n",
       "      <td>Mazda RX4 Wag</td>\n",
       "      <td>21.0</td>\n",
       "      <td>6</td>\n",
       "      <td>160.0</td>\n",
       "      <td>110</td>\n",
       "      <td>3.90</td>\n",
       "      <td>2.875</td>\n",
       "      <td>17.02</td>\n",
       "      <td>0</td>\n",
       "      <td>1</td>\n",
       "      <td>4</td>\n",
       "      <td>4</td>\n",
       "    </tr>\n",
       "    <tr>\n",
       "      <th>2</th>\n",
       "      <td>Datsun 710</td>\n",
       "      <td>22.8</td>\n",
       "      <td>4</td>\n",
       "      <td>108.0</td>\n",
       "      <td>93</td>\n",
       "      <td>3.85</td>\n",
       "      <td>2.320</td>\n",
       "      <td>18.61</td>\n",
       "      <td>1</td>\n",
       "      <td>1</td>\n",
       "      <td>4</td>\n",
       "      <td>1</td>\n",
       "    </tr>\n",
       "    <tr>\n",
       "      <th>3</th>\n",
       "      <td>Hornet 4 Drive</td>\n",
       "      <td>21.4</td>\n",
       "      <td>6</td>\n",
       "      <td>258.0</td>\n",
       "      <td>110</td>\n",
       "      <td>3.08</td>\n",
       "      <td>3.215</td>\n",
       "      <td>19.44</td>\n",
       "      <td>1</td>\n",
       "      <td>0</td>\n",
       "      <td>3</td>\n",
       "      <td>1</td>\n",
       "    </tr>\n",
       "    <tr>\n",
       "      <th>4</th>\n",
       "      <td>Hornet Sportabout</td>\n",
       "      <td>18.7</td>\n",
       "      <td>8</td>\n",
       "      <td>360.0</td>\n",
       "      <td>175</td>\n",
       "      <td>3.15</td>\n",
       "      <td>3.440</td>\n",
       "      <td>17.02</td>\n",
       "      <td>0</td>\n",
       "      <td>0</td>\n",
       "      <td>3</td>\n",
       "      <td>2</td>\n",
       "    </tr>\n",
       "  </tbody>\n",
       "</table>\n",
       "</div>"
      ],
      "text/plain": [
       "          Unnamed: 0   mpg  cyl   disp   hp  drat     wt   qsec  vs  am  gear  \\\n",
       "0          Mazda RX4  21.0    6  160.0  110  3.90  2.620  16.46   0   1     4   \n",
       "1      Mazda RX4 Wag  21.0    6  160.0  110  3.90  2.875  17.02   0   1     4   \n",
       "2         Datsun 710  22.8    4  108.0   93  3.85  2.320  18.61   1   1     4   \n",
       "3     Hornet 4 Drive  21.4    6  258.0  110  3.08  3.215  19.44   1   0     3   \n",
       "4  Hornet Sportabout  18.7    8  360.0  175  3.15  3.440  17.02   0   0     3   \n",
       "\n",
       "   carb  \n",
       "0     4  \n",
       "1     4  \n",
       "2     1  \n",
       "3     1  \n",
       "4     2  "
      ]
     },
     "execution_count": 3,
     "metadata": {},
     "output_type": "execute_result"
    }
   ],
   "source": [
    "cars_file = 'https://gist.githubusercontent.com/noamross/e5d3e859aa0c794be10b/raw/b999fb4425b54c63cab088c0ce2c0d6ce961a563/cars.csv'\n",
    "cars = pd.read_csv(cars_file)\n",
    "cars.head()"
   ]
  },
  {
   "cell_type": "code",
   "execution_count": 4,
   "id": "313e5675",
   "metadata": {
    "tags": [],
    "title": "visualise the model"
   },
   "outputs": [
    {
     "data": {
      "text/plain": [
       "<AxesSubplot: xlabel='wt', ylabel='mpg'>"
      ]
     },
     "execution_count": 4,
     "metadata": {},
     "output_type": "execute_result"
    },
    {
     "data": {
      "image/png": "[encoded data removed]",
      "text/plain": [
       "<Figure size 432x288 with 1 Axes>"
      ]
     },
     "metadata": {
      "needs_background": "light"
     },
     "output_type": "display_data"
    }
   ],
   "source": [
    "sns.scatterplot(x='wt', y='mpg', data=cars)\n",
    "sns.regplot(x='wt', y='mpg', data=cars)"
   ]
  },
  {
   "cell_type": "code",
   "execution_count": 5,
   "id": "c4547220",
   "metadata": {
    "lines_to_next_cell": 2,
    "tags": [],
    "title": "convert data to tensor"
   },
   "outputs": [],
   "source": [
    "X_list = cars.wt.values\n",
    "X_np = np.array(X_list, dtype=np.float32).reshape(-1,1)\n",
    "y_list = cars.mpg.values.tolist()\n",
    "y_np = np.array(y_list, dtype=np.float32).reshape(-1,1)\n",
    "X = torch.from_numpy(X_np)\n",
    "y = torch.tensor(y_list)"
   ]
  },
  {
   "cell_type": "code",
   "execution_count": 6,
   "id": "8a38dafe",
   "metadata": {
    "tags": [],
    "title": "training"
   },
   "outputs": [
    {
     "name": "stdout",
     "output_type": "stream",
     "text": [
      "tensor(148.3724, dtype=torch.float64)\n",
      "tensor(77.3550, dtype=torch.float64)\n",
      "tensor(52.5020, dtype=torch.float64)\n",
      "tensor(42.5994, dtype=torch.float64)\n",
      "tensor(38.2335, dtype=torch.float64)\n",
      "tensor(36.1165, dtype=torch.float64)\n",
      "tensor(34.9631, dtype=torch.float64)\n",
      "tensor(34.2351, dtype=torch.float64)\n",
      "tensor(33.6984, dtype=torch.float64)\n",
      "tensor(33.2496, dtype=torch.float64)\n",
      "tensor(32.8424, dtype=torch.float64)\n",
      "tensor(32.4561, dtype=torch.float64)\n",
      "tensor(32.0812, dtype=torch.float64)\n",
      "tensor(31.7137, dtype=torch.float64)\n",
      "tensor(31.3515, dtype=torch.float64)\n",
      "tensor(30.9939, dtype=torch.float64)\n",
      "tensor(30.6403, dtype=torch.float64)\n",
      "tensor(30.2907, dtype=torch.float64)\n",
      "tensor(29.9447, dtype=torch.float64)\n",
      "tensor(29.6025, dtype=torch.float64)\n",
      "tensor(29.2639, dtype=torch.float64)\n",
      "tensor(28.9290, dtype=torch.float64)\n",
      "tensor(28.5975, dtype=torch.float64)\n",
      "tensor(28.2696, dtype=torch.float64)\n",
      "tensor(27.9452, dtype=torch.float64)\n",
      "tensor(27.6242, dtype=torch.float64)\n",
      "tensor(27.3066, dtype=torch.float64)\n",
      "tensor(26.9924, dtype=torch.float64)\n",
      "tensor(26.6816, dtype=torch.float64)\n",
      "tensor(26.3740, dtype=torch.float64)\n",
      "tensor(26.0697, dtype=torch.float64)\n",
      "tensor(25.7687, dtype=torch.float64)\n",
      "tensor(25.4709, dtype=torch.float64)\n",
      "tensor(25.1762, dtype=torch.float64)\n",
      "tensor(24.8847, dtype=torch.float64)\n",
      "tensor(24.5963, dtype=torch.float64)\n",
      "tensor(24.3110, dtype=torch.float64)\n",
      "tensor(24.0288, dtype=torch.float64)\n",
      "tensor(23.7495, dtype=torch.float64)\n",
      "tensor(23.4733, dtype=torch.float64)\n",
      "tensor(23.2000, dtype=torch.float64)\n",
      "tensor(22.9296, dtype=torch.float64)\n",
      "tensor(22.6621, dtype=torch.float64)\n",
      "tensor(22.3975, dtype=torch.float64)\n",
      "tensor(22.1357, dtype=torch.float64)\n",
      "tensor(21.8767, dtype=torch.float64)\n",
      "tensor(21.6205, dtype=torch.float64)\n",
      "tensor(21.3671, dtype=torch.float64)\n",
      "tensor(21.1164, dtype=torch.float64)\n",
      "tensor(20.8684, dtype=torch.float64)\n",
      "tensor(20.6230, dtype=torch.float64)\n",
      "tensor(20.3803, dtype=torch.float64)\n",
      "tensor(20.1402, dtype=torch.float64)\n",
      "tensor(19.9027, dtype=torch.float64)\n",
      "tensor(19.6678, dtype=torch.float64)\n",
      "tensor(19.4353, dtype=torch.float64)\n",
      "tensor(19.2054, dtype=torch.float64)\n",
      "tensor(18.9780, dtype=torch.float64)\n",
      "tensor(18.7530, dtype=torch.float64)\n",
      "tensor(18.5305, dtype=torch.float64)\n",
      "tensor(18.3104, dtype=torch.float64)\n",
      "tensor(18.0926, dtype=torch.float64)\n",
      "tensor(17.8773, dtype=torch.float64)\n",
      "tensor(17.6642, dtype=torch.float64)\n",
      "tensor(17.4535, dtype=torch.float64)\n",
      "tensor(17.2450, dtype=torch.float64)\n",
      "tensor(17.0388, dtype=torch.float64)\n",
      "tensor(16.8349, dtype=torch.float64)\n",
      "tensor(16.6331, dtype=torch.float64)\n",
      "tensor(16.4336, dtype=torch.float64)\n",
      "tensor(16.2362, dtype=torch.float64)\n",
      "tensor(16.0410, dtype=torch.float64)\n",
      "tensor(15.8479, dtype=torch.float64)\n",
      "tensor(15.6569, dtype=torch.float64)\n",
      "tensor(15.4680, dtype=torch.float64)\n",
      "tensor(15.2812, dtype=torch.float64)\n",
      "tensor(15.0964, dtype=torch.float64)\n",
      "tensor(14.9136, dtype=torch.float64)\n",
      "tensor(14.7328, dtype=torch.float64)\n",
      "tensor(14.5540, dtype=torch.float64)\n",
      "tensor(14.3772, dtype=torch.float64)\n",
      "tensor(14.2023, dtype=torch.float64)\n",
      "tensor(14.0293, dtype=torch.float64)\n",
      "tensor(13.8582, dtype=torch.float64)\n",
      "tensor(13.6890, dtype=torch.float64)\n",
      "tensor(13.5217, dtype=torch.float64)\n",
      "tensor(13.3562, dtype=torch.float64)\n",
      "tensor(13.1925, dtype=torch.float64)\n",
      "tensor(13.0306, dtype=torch.float64)\n",
      "tensor(12.8705, dtype=torch.float64)\n",
      "tensor(12.7122, dtype=torch.float64)\n",
      "tensor(12.5556, dtype=torch.float64)\n",
      "tensor(12.4007, dtype=torch.float64)\n",
      "tensor(12.2476, dtype=torch.float64)\n",
      "tensor(12.0961, dtype=torch.float64)\n",
      "tensor(11.9464, dtype=torch.float64)\n",
      "tensor(11.7983, dtype=torch.float64)\n",
      "tensor(11.6518, dtype=torch.float64)\n",
      "tensor(11.5069, dtype=torch.float64)\n",
      "tensor(11.3637, dtype=torch.float64)\n"
     ]
    }
   ],
   "source": [
    "w = torch.rand(1, requires_grad=True, dtype=torch.float64)\n",
    "b = torch.rand(1, requires_grad=True, dtype=torch.float64)\n",
    "\n",
    "num_epochs = 100\n",
    "learning_rate = 1e-3\n",
    "for epoch in range(num_epochs):\n",
    "  for i in range(len(X)):\n",
    "    # x, y = torch.tensor(X_list[i]), torch.tensor(y_list[i])\n",
    "    # forward pass\n",
    "    y_predict = X[i] * w + b\n",
    "    # calculate loss\n",
    "    loss_tensor = torch.pow(y_predict - y[i], 2)\n",
    "    # backward pass\n",
    "    loss_tensor.backward()\n",
    "    # extract losses\n",
    "    loss_value = loss_tensor.data[0]\n",
    "    # update weights and biases\n",
    "    with torch.no_grad():\n",
    "      w -= w.grad * learning_rate\n",
    "      b -= b.grad * learning_rate\n",
    "      w.grad.zero_()\n",
    "      b.grad.zero_()\n",
    "  print(loss_value)"
   ]
  },
  {
   "cell_type": "code",
   "execution_count": 7,
   "id": "513449f5",
   "metadata": {
    "lines_to_next_cell": 0,
    "title": "check results"
   },
   "outputs": [
    {
     "name": "stdout",
     "output_type": "stream",
     "text": [
      "Weight: 0.8904858445690333, Bias: 15.612287812324192\n"
     ]
    }
   ],
   "source": [
    "print(f\"Weight: {w.item()}, Bias: {b.item()}\")"
   ]
  },
  {
   "cell_type": "code",
   "execution_count": 8,
   "id": "d6e66a7c",
   "metadata": {
    "lines_to_next_cell": 0
   },
   "outputs": [],
   "source": [
    "y_pred = (torch.tensor(X_list)*w+b).detach().numpy()"
   ]
  },
  {
   "cell_type": "code",
   "execution_count": 9,
   "id": "6e8bbc63",
   "metadata": {
    "lines_to_next_cell": 0
   },
   "outputs": [
    {
     "data": {
      "text/plain": [
       "<AxesSubplot: >"
      ]
     },
     "execution_count": 9,
     "metadata": {},
     "output_type": "execute_result"
    },
    {
     "data": {
      "image/png": "[encoded data removed]",
      "text/plain": [
       "<Figure size 432x288 with 1 Axes>"
      ]
     },
     "metadata": {
      "needs_background": "light"
     },
     "output_type": "display_data"
    }
   ],
   "source": [
    "sns.scatterplot(x=X_list, y=y_list)\n",
    "sns.lineplot(x=X_list, y=y_pred, color='red')"
   ]
  },
  {
   "cell_type": "code",
   "execution_count": 10,
   "id": "249a6b36",
   "metadata": {
    "lines_to_next_cell": 2,
    "title": "(Statistical) Linear Regression"
   },
   "outputs": [
    {
     "name": "stdout",
     "output_type": "stream",
     "text": [
      "Slope: [-5.3444715], Bias: 37.285125732421875\n"
     ]
    }
   ],
   "source": [
    "from sklearn.linear_model import LinearRegression\n",
    "reg = LinearRegression().fit(X_np, y_list)\n",
    "print(f\"Slope: {reg.coef_}, Bias: {reg.intercept_}\")"
   ]
  },
  {
   "cell_type": "code",
   "execution_count": 11,
   "id": "d13b0b2a-90a1-4d42-a264-d5cd58e76077",
   "metadata": {
    "tags": []
   },
   "outputs": [],
   "source": [
    "#%conda install torchviz"
   ]
  },
  {
   "cell_type": "code",
   "execution_count": 12,
   "id": "cf0d798c-f03d-4c4d-a3dd-96cdcde46131",
   "metadata": {
    "tags": []
   },
   "outputs": [],
   "source": [
    "#import torchviz as tv\n",
    "#print(tv.__version__)"
   ]
  },
  {
   "cell_type": "code",
   "execution_count": 14,
   "id": "d9f4feb9-3984-4480-aa2c-bc751171674a",
   "metadata": {},
   "outputs": [],
   "source": [
    "#%pip install --force-reinstall graphviz==0.19.1"
   ]
  },
  {
   "cell_type": "code",
   "execution_count": 15,
   "id": "3cca3ce2-7670-4685-9618-0f013b4e94c2",
   "metadata": {
    "tags": []
   },
   "outputs": [],
   "source": [
    "#%pip install whych"
   ]
  },
  {
   "cell_type": "code",
   "execution_count": 41,
   "id": "0349faf1-bd6a-499c-a790-668247f095e3",
   "metadata": {
    "tags": []
   },
   "outputs": [],
   "source": [
    "#from whych import whych\n",
    "#whych(\"torchviz\")"
   ]
  },
  {
   "cell_type": "code",
   "execution_count": 30,
   "id": "a5cfd5eb-24d6-417c-bc21-307210e79a19",
   "metadata": {
    "tags": []
   },
   "outputs": [],
   "source": [
    "#import graphviz as gv\n",
    "#print(gv.__version__)"
   ]
  },
  {
   "cell_type": "code",
   "execution_count": 35,
   "id": "50fa2ca6-b71e-45d2-9527-a3de13929987",
   "metadata": {
    "tags": []
   },
   "outputs": [],
   "source": [
    "#%pip list"
   ]
  },
  {
   "cell_type": "code",
   "execution_count": 37,
   "id": "afa01f4e-75db-4b0c-bb7a-eb86ea33f69a",
   "metadata": {
    "tags": []
   },
   "outputs": [],
   "source": [
    "#import sys\n",
    "#sys.executable"
   ]
  },
  {
   "cell_type": "code",
   "execution_count": 38,
   "id": "ae8a6ceb-1435-4e7b-b1a7-5c0c21d2968c",
   "metadata": {
    "tags": []
   },
   "outputs": [],
   "source": [
    "#from platform import python_version\n",
    "#print(python_version())"
   ]
  },
  {
   "cell_type": "code",
   "execution_count": 18,
   "id": "e5940ab3-3cb5-4a45-8980-c85bc4273dc8",
   "metadata": {},
   "outputs": [],
   "source": [
    "#%conda install -c fastchan python-graphviz"
   ]
  },
  {
   "cell_type": "code",
   "execution_count": 19,
   "id": "64e091a7-c7b9-45c1-94f3-95e14d447710",
   "metadata": {
    "tags": []
   },
   "outputs": [
    {
     "data": {
      "image/svg+xml": [
       "<?xml version=\"1.0\" encoding=\"UTF-8\" standalone=\"no\"?>\n",
       "<!DOCTYPE svg PUBLIC \"-//W3C//DTD SVG 1.1//EN\"\n",
       " \"http://www.w3.org/Graphics/SVG/1.1/DTD/svg11.dtd\">\n",
       "<!-- Generated by graphviz version 6.0.1 (20220911.2005)\n",
       " -->\n",
       "<!-- Pages: 1 -->\n",
       "<svg width=\"222pt\" height=\"393pt\"\n",
       " viewBox=\"0.00 0.00 222.00 393.00\" xmlns=\"http://www.w3.org/2000/svg\" xmlns:xlink=\"http://www.w3.org/1999/xlink\">\n",
       "<g id=\"graph0\" class=\"graph\" transform=\"scale(1 1) rotate(0) translate(4 389)\">\n",
       "<polygon fill=\"white\" stroke=\"none\" points=\"-4,4 -4,-389 218,-389 218,4 -4,4\"/>\n",
       "<!-- 140458282907424 -->\n",
       "<g id=\"node1\" class=\"node\">\n",
       "<title>140458282907424</title>\n",
       "<polygon fill=\"#caff70\" stroke=\"black\" points=\"133.5,-31 79.5,-31 79.5,0 133.5,0 133.5,-31\"/>\n",
       "<text text-anchor=\"middle\" x=\"106.5\" y=\"-7\" font-family=\"monospace\" font-size=\"10.00\"> (1)</text>\n",
       "</g>\n",
       "<!-- 140458267910736 -->\n",
       "<g id=\"node2\" class=\"node\">\n",
       "<title>140458267910736</title>\n",
       "<polygon fill=\"lightgrey\" stroke=\"black\" points=\"151,-86 62,-86 62,-67 151,-67 151,-86\"/>\n",
       "<text text-anchor=\"middle\" x=\"106.5\" y=\"-74\" font-family=\"monospace\" font-size=\"10.00\">PowBackward0</text>\n",
       "</g>\n",
       "<!-- 140458267910736&#45;&gt;140458282907424 -->\n",
       "<g id=\"edge8\" class=\"edge\">\n",
       "<title>140458267910736&#45;&gt;140458282907424</title>\n",
       "<path fill=\"none\" stroke=\"black\" d=\"M106.5,-66.79C106.5,-60.07 106.5,-50.4 106.5,-41.34\"/>\n",
       "<polygon fill=\"black\" stroke=\"black\" points=\"110,-41.19 106.5,-31.19 103,-41.19 110,-41.19\"/>\n",
       "</g>\n",
       "<!-- 140458267910832 -->\n",
       "<g id=\"node3\" class=\"node\">\n",
       "<title>140458267910832</title>\n",
       "<polygon fill=\"lightgrey\" stroke=\"black\" points=\"151,-141 62,-141 62,-122 151,-122 151,-141\"/>\n",
       "<text text-anchor=\"middle\" x=\"106.5\" y=\"-129\" font-family=\"monospace\" font-size=\"10.00\">SubBackward0</text>\n",
       "</g>\n",
       "<!-- 140458267910832&#45;&gt;140458267910736 -->\n",
       "<g id=\"edge1\" class=\"edge\">\n",
       "<title>140458267910832&#45;&gt;140458267910736</title>\n",
       "<path fill=\"none\" stroke=\"black\" d=\"M106.5,-121.75C106.5,-114.8 106.5,-104.85 106.5,-96.13\"/>\n",
       "<polygon fill=\"black\" stroke=\"black\" points=\"110,-96.09 106.5,-86.09 103,-96.09 110,-96.09\"/>\n",
       "</g>\n",
       "<!-- 140458267910640 -->\n",
       "<g id=\"node4\" class=\"node\">\n",
       "<title>140458267910640</title>\n",
       "<polygon fill=\"lightgrey\" stroke=\"black\" points=\"151,-196 62,-196 62,-177 151,-177 151,-196\"/>\n",
       "<text text-anchor=\"middle\" x=\"106.5\" y=\"-184\" font-family=\"monospace\" font-size=\"10.00\">AddBackward0</text>\n",
       "</g>\n",
       "<!-- 140458267910640&#45;&gt;140458267910832 -->\n",
       "<g id=\"edge2\" class=\"edge\">\n",
       "<title>140458267910640&#45;&gt;140458267910832</title>\n",
       "<path fill=\"none\" stroke=\"black\" d=\"M106.5,-176.75C106.5,-169.8 106.5,-159.85 106.5,-151.13\"/>\n",
       "<polygon fill=\"black\" stroke=\"black\" points=\"110,-151.09 106.5,-141.09 103,-151.09 110,-151.09\"/>\n",
       "</g>\n",
       "<!-- 140458267910880 -->\n",
       "<g id=\"node5\" class=\"node\">\n",
       "<title>140458267910880</title>\n",
       "<polygon fill=\"lightgrey\" stroke=\"black\" points=\"95,-251 6,-251 6,-232 95,-232 95,-251\"/>\n",
       "<text text-anchor=\"middle\" x=\"50.5\" y=\"-239\" font-family=\"monospace\" font-size=\"10.00\">MulBackward0</text>\n",
       "</g>\n",
       "<!-- 140458267910880&#45;&gt;140458267910640 -->\n",
       "<g id=\"edge3\" class=\"edge\">\n",
       "<title>140458267910880&#45;&gt;140458267910640</title>\n",
       "<path fill=\"none\" stroke=\"black\" d=\"M59.5,-231.98C67.69,-224.23 80.01,-212.58 89.97,-203.14\"/>\n",
       "<polygon fill=\"black\" stroke=\"black\" points=\"92.48,-205.59 97.34,-196.17 87.67,-200.5 92.48,-205.59\"/>\n",
       "</g>\n",
       "<!-- 140458267911024 -->\n",
       "<g id=\"node6\" class=\"node\">\n",
       "<title>140458267911024</title>\n",
       "<polygon fill=\"lightgrey\" stroke=\"black\" points=\"101,-312 0,-312 0,-293 101,-293 101,-312\"/>\n",
       "<text text-anchor=\"middle\" x=\"50.5\" y=\"-300\" font-family=\"monospace\" font-size=\"10.00\">AccumulateGrad</text>\n",
       "</g>\n",
       "<!-- 140458267911024&#45;&gt;140458267910880 -->\n",
       "<g id=\"edge4\" class=\"edge\">\n",
       "<title>140458267911024&#45;&gt;140458267910880</title>\n",
       "<path fill=\"none\" stroke=\"black\" d=\"M50.5,-292.79C50.5,-284.6 50.5,-272.06 50.5,-261.55\"/>\n",
       "<polygon fill=\"black\" stroke=\"black\" points=\"54,-261.24 50.5,-251.24 47,-261.24 54,-261.24\"/>\n",
       "</g>\n",
       "<!-- 140458282906144 -->\n",
       "<g id=\"node7\" class=\"node\">\n",
       "<title>140458282906144</title>\n",
       "<polygon fill=\"lightblue\" stroke=\"black\" points=\"77.5,-385 23.5,-385 23.5,-354 77.5,-354 77.5,-385\"/>\n",
       "<text text-anchor=\"middle\" x=\"50.5\" y=\"-361\" font-family=\"monospace\" font-size=\"10.00\"> (1)</text>\n",
       "</g>\n",
       "<!-- 140458282906144&#45;&gt;140458267911024 -->\n",
       "<g id=\"edge5\" class=\"edge\">\n",
       "<title>140458282906144&#45;&gt;140458267911024</title>\n",
       "<path fill=\"none\" stroke=\"black\" d=\"M50.5,-353.75C50.5,-344.39 50.5,-332.19 50.5,-322.16\"/>\n",
       "<polygon fill=\"black\" stroke=\"black\" points=\"54,-322.02 50.5,-312.02 47,-322.02 54,-322.02\"/>\n",
       "</g>\n",
       "<!-- 140458267910544 -->\n",
       "<g id=\"node8\" class=\"node\">\n",
       "<title>140458267910544</title>\n",
       "<polygon fill=\"lightgrey\" stroke=\"black\" points=\"214,-251 113,-251 113,-232 214,-232 214,-251\"/>\n",
       "<text text-anchor=\"middle\" x=\"163.5\" y=\"-239\" font-family=\"monospace\" font-size=\"10.00\">AccumulateGrad</text>\n",
       "</g>\n",
       "<!-- 140458267910544&#45;&gt;140458267910640 -->\n",
       "<g id=\"edge6\" class=\"edge\">\n",
       "<title>140458267910544&#45;&gt;140458267910640</title>\n",
       "<path fill=\"none\" stroke=\"black\" d=\"M154.34,-231.98C146,-224.23 133.47,-212.58 123.32,-203.14\"/>\n",
       "<polygon fill=\"black\" stroke=\"black\" points=\"125.53,-200.42 115.82,-196.17 120.76,-205.54 125.53,-200.42\"/>\n",
       "</g>\n",
       "<!-- 140458282906224 -->\n",
       "<g id=\"node9\" class=\"node\">\n",
       "<title>140458282906224</title>\n",
       "<polygon fill=\"lightblue\" stroke=\"black\" points=\"190.5,-318 136.5,-318 136.5,-287 190.5,-287 190.5,-318\"/>\n",
       "<text text-anchor=\"middle\" x=\"163.5\" y=\"-294\" font-family=\"monospace\" font-size=\"10.00\"> (1)</text>\n",
       "</g>\n",
       "<!-- 140458282906224&#45;&gt;140458267910544 -->\n",
       "<g id=\"edge7\" class=\"edge\">\n",
       "<title>140458282906224&#45;&gt;140458267910544</title>\n",
       "<path fill=\"none\" stroke=\"black\" d=\"M163.5,-286.92C163.5,-279.22 163.5,-269.69 163.5,-261.43\"/>\n",
       "<polygon fill=\"black\" stroke=\"black\" points=\"167,-261.25 163.5,-251.25 160,-261.25 167,-261.25\"/>\n",
       "</g>\n",
       "</g>\n",
       "</svg>\n"
      ],
      "text/plain": [
       "<graphviz.graphs.Digraph at 0x7fbefd2a21c0>"
      ]
     },
     "execution_count": 19,
     "metadata": {},
     "output_type": "execute_result"
    }
   ],
   "source": [
    "#import os\n",
    "from torchviz import make_dot\n",
    "#os.environ['PATH'] += os.pathsep + '/opt/conda/lib/dot'\n",
    "make_dot(loss_tensor)"
   ]
  },
  {
   "cell_type": "code",
   "execution_count": null,
   "id": "6bc035e0-ea31-48cb-a77f-0df01342dcee",
   "metadata": {},
   "outputs": [],
   "source": []
  }
 ],
 "metadata": {
  "instance_type": "ml.t3.medium",
  "jupytext": {
   "cell_metadata_filter": "title,-all",
   "main_language": "python",
   "notebook_metadata_filter": "-all"
  },
  "kernelspec": {
   "display_name": "Python 3 (PyTorch 1.12 Python 3.8 GPU Optimized)",
   "language": "python",
   "name": "python3__SAGEMAKER_INTERNAL__arn:aws:sagemaker:us-west-2:236514542706:image/pytorch-1.12-gpu-py38"
  },
  "language_info": {
   "codemirror_mode": {
    "name": "ipython",
    "version": 3
   },
   "file_extension": ".py",
   "mimetype": "text/x-python",
   "name": "python",
   "nbconvert_exporter": "python",
   "pygments_lexer": "ipython3",
   "version": "3.8.13"
  }
 },
 "nbformat": 4,
 "nbformat_minor": 5
}

{
 "cells": [
  {
   "cell_type": "code",
   "execution_count": 2,
   "id": "f5f1a0e3",
   "metadata": {
    "tags": [],
    "title": "packages"
   },
   "outputs": [],
   "source": [
    "import numpy as np\n",
    "import pandas as pd\n",
    "import torch\n",
    "import torch.nn as nn \n",
    "import seaborn as sns"
   ]
  },
  {
   "cell_type": "code",
   "execution_count": 3,
   "id": "49864450",
   "metadata": {
    "tags": [],
    "title": "data import"
   },
   "outputs": [
    {
     "data": {
      "text/html": [
       "<div>\n",
       "<style scoped>\n",
       "    .dataframe tbody tr th:only-of-type {\n",
       "        vertical-align: middle;\n",
       "    }\n",
       "\n",
       "    .dataframe tbody tr th {\n",
       "        vertical-align: top;\n",
       "    }\n",
       "\n",
       "    .dataframe thead th {\n",
       "        text-align: right;\n",
       "    }\n",
       "</style>\n",
       "<table border=\"1\" class=\"dataframe\">\n",
       "  <thead>\n",
       "    <tr style=\"text-align: right;\">\n",
       "      <th></th>\n",
       "      <th>Unnamed: 0</th>\n",
       "      <th>mpg</th>\n",
       "      <th>cyl</th>\n",
       "      <th>disp</th>\n",
       "      <th>hp</th>\n",
       "      <th>drat</th>\n",
       "      <th>wt</th>\n",
       "      <th>qsec</th>\n",
       "      <th>vs</th>\n",
       "      <th>am</th>\n",
       "      <th>gear</th>\n",
       "      <th>carb</th>\n",
       "    </tr>\n",
       "  </thead>\n",
       "  <tbody>\n",
       "    <tr>\n",
       "      <th>0</th>\n",
       "      <td>Mazda RX4</td>\n",
       "      <td>21.0</td>\n",
       "      <td>6</td>\n",
       "      <td>160.0</td>\n",
       "      <td>110</td>\n",
       "      <td>3.90</td>\n",
       "      <td>2.620</td>\n",
       "      <td>16.46</td>\n",
       "      <td>0</td>\n",
       "      <td>1</td>\n",
       "      <td>4</td>\n",
       "      <td>4</td>\n",
       "    </tr>\n",
       "    <tr>\n",
       "      <th>1</th>\n",
       "      <td>Mazda RX4 Wag</td>\n",
       "      <td>21.0</td>\n",
       "      <td>6</td>\n",
       "      <td>160.0</td>\n",
       "      <td>110</td>\n",
       "      <td>3.90</td>\n",
       "      <td>2.875</td>\n",
       "      <td>17.02</td>\n",
       "      <td>0</td>\n",
       "      <td>1</td>\n",
       "      <td>4</td>\n",
       "      <td>4</td>\n",
       "    </tr>\n",
       "    <tr>\n",
       "      <th>2</th>\n",
       "      <td>Datsun 710</td>\n",
       "      <td>22.8</td>\n",
       "      <td>4</td>\n",
       "      <td>108.0</td>\n",
       "      <td>93</td>\n",
       "      <td>3.85</td>\n",
       "      <td>2.320</td>\n",
       "      <td>18.61</td>\n",
       "      <td>1</td>\n",
       "      <td>1</td>\n",
       "      <td>4</td>\n",
       "      <td>1</td>\n",
       "    </tr>\n",
       "    <tr>\n",
       "      <th>3</th>\n",
       "      <td>Hornet 4 Drive</td>\n",
       "      <td>21.4</td>\n",
       "      <td>6</td>\n",
       "      <td>258.0</td>\n",
       "      <td>110</td>\n",
       "      <td>3.08</td>\n",
       "      <td>3.215</td>\n",
       "      <td>19.44</td>\n",
       "      <td>1</td>\n",
       "      <td>0</td>\n",
       "      <td>3</td>\n",
       "      <td>1</td>\n",
       "    </tr>\n",
       "    <tr>\n",
       "      <th>4</th>\n",
       "      <td>Hornet Sportabout</td>\n",
       "      <td>18.7</td>\n",
       "      <td>8</td>\n",
       "      <td>360.0</td>\n",
       "      <td>175</td>\n",
       "      <td>3.15</td>\n",
       "      <td>3.440</td>\n",
       "      <td>17.02</td>\n",
       "      <td>0</td>\n",
       "      <td>0</td>\n",
       "      <td>3</td>\n",
       "      <td>2</td>\n",
       "    </tr>\n",
       "  </tbody>\n",
       "</table>\n",
       "</div>"
      ],
      "text/plain": [
       "          Unnamed: 0   mpg  cyl   disp   hp  drat     wt   qsec  vs  am  gear  \\\n",
       "0          Mazda RX4  21.0    6  160.0  110  3.90  2.620  16.46   0   1     4   \n",
       "1      Mazda RX4 Wag  21.0    6  160.0  110  3.90  2.875  17.02   0   1     4   \n",
       "2         Datsun 710  22.8    4  108.0   93  3.85  2.320  18.61   1   1     4   \n",
       "3     Hornet 4 Drive  21.4    6  258.0  110  3.08  3.215  19.44   1   0     3   \n",
       "4  Hornet Sportabout  18.7    8  360.0  175  3.15  3.440  17.02   0   0     3   \n",
       "\n",
       "   carb  \n",
       "0     4  \n",
       "1     4  \n",
       "2     1  \n",
       "3     1  \n",
       "4     2  "
      ]
     },
     "execution_count": 3,
     "metadata": {},
     "output_type": "execute_result"
    }
   ],
   "source": [
    "cars_file = 'https://gist.githubusercontent.com/noamross/e5d3e859aa0c794be10b/raw/b999fb4425b54c63cab088c0ce2c0d6ce961a563/cars.csv'\n",
    "cars = pd.read_csv(cars_file)\n",
    "cars.head()"
   ]
  },
  {
   "cell_type": "code",
   "execution_count": 4,
   "id": "313e5675",
   "metadata": {
    "tags": [],
    "title": "visualise the model"
   },
   "outputs": [
    {
     "data": {
      "text/plain": [
       "<AxesSubplot:xlabel='wt', ylabel='mpg'>"
      ]
     },
     "execution_count": 4,
     "metadata": {},
     "output_type": "execute_result"
    },
    {
     "data": {
      "image/png": "[encoded data removed]",
      "text/plain": [
       "<Figure size 432x288 with 1 Axes>"
      ]
     },
     "metadata": {
      "needs_background": "light"
     },
     "output_type": "display_data"
    }
   ],
   "source": [
    "sns.scatterplot(x='wt', y='mpg', data=cars)\n",
    "sns.regplot(x='wt', y='mpg', data=cars)"
   ]
  },
  {
   "cell_type": "code",
   "execution_count": 5,
   "id": "c4547220",
   "metadata": {
    "lines_to_next_cell": 2,
    "tags": [],
    "title": "convert data to tensor"
   },
   "outputs": [],
   "source": [
    "X_list = cars.wt.values\n",
    "X_np = np.array(X_list, dtype=np.float32).reshape(-1,1)\n",
    "y_list = cars.mpg.values.tolist()\n",
    "y_np = np.array(y_list, dtype=np.float32).reshape(-1,1)\n",
    "X = torch.from_numpy(X_np)\n",
    "y = torch.tensor(y_list)"
   ]
  },
  {
   "cell_type": "code",
   "execution_count": 6,
   "id": "8a38dafe",
   "metadata": {
    "tags": [],
    "title": "training"
   },
   "outputs": [
    {
     "name": "stdout",
     "output_type": "stream",
     "text": [
      "tensor(150.1487, dtype=torch.float64)\n",
      "tensor(78.4234, dtype=torch.float64)\n",
      "tensor(53.3006, dtype=torch.float64)\n",
      "tensor(43.2838, dtype=torch.float64)\n",
      "tensor(38.8652, dtype=torch.float64)\n",
      "tensor(36.7215, dtype=torch.float64)\n",
      "tensor(35.5528, dtype=torch.float64)\n",
      "tensor(34.8146, dtype=torch.float64)\n",
      "tensor(34.2700, dtype=torch.float64)\n",
      "tensor(33.8144, dtype=torch.float64)\n",
      "tensor(33.4009, dtype=torch.float64)\n",
      "tensor(33.0085, dtype=torch.float64)\n",
      "tensor(32.6277, dtype=torch.float64)\n",
      "tensor(32.2544, dtype=torch.float64)\n",
      "tensor(31.8865, dtype=torch.float64)\n",
      "tensor(31.5232, dtype=torch.float64)\n",
      "tensor(31.1640, dtype=torch.float64)\n",
      "tensor(30.8088, dtype=torch.float64)\n",
      "tensor(30.4574, dtype=torch.float64)\n",
      "tensor(30.1098, dtype=torch.float64)\n",
      "tensor(29.7658, dtype=torch.float64)\n",
      "tensor(29.4255, dtype=torch.float64)\n",
      "tensor(29.0888, dtype=torch.float64)\n",
      "tensor(28.7557, dtype=torch.float64)\n",
      "tensor(28.4261, dtype=torch.float64)\n",
      "tensor(28.1000, dtype=torch.float64)\n",
      "tensor(27.7774, dtype=torch.float64)\n",
      "tensor(27.4582, dtype=torch.float64)\n",
      "tensor(27.1423, dtype=torch.float64)\n",
      "tensor(26.8299, dtype=torch.float64)\n",
      "tensor(26.5208, dtype=torch.float64)\n",
      "tensor(26.2149, dtype=torch.float64)\n",
      "tensor(25.9124, dtype=torch.float64)\n",
      "tensor(25.6130, dtype=torch.float64)\n",
      "tensor(25.3168, dtype=torch.float64)\n",
      "tensor(25.0238, dtype=torch.float64)\n",
      "tensor(24.7340, dtype=torch.float64)\n",
      "tensor(24.4472, dtype=torch.float64)\n",
      "tensor(24.1635, dtype=torch.float64)\n",
      "tensor(23.8828, dtype=torch.float64)\n",
      "tensor(23.6051, dtype=torch.float64)\n",
      "tensor(23.3304, dtype=torch.float64)\n",
      "tensor(23.0586, dtype=torch.float64)\n",
      "tensor(22.7897, dtype=torch.float64)\n",
      "tensor(22.5238, dtype=torch.float64)\n",
      "tensor(22.2606, dtype=torch.float64)\n",
      "tensor(22.0003, dtype=torch.float64)\n",
      "tensor(21.7428, dtype=torch.float64)\n",
      "tensor(21.4880, dtype=torch.float64)\n",
      "tensor(21.2360, dtype=torch.float64)\n",
      "tensor(20.9867, dtype=torch.float64)\n",
      "tensor(20.7401, dtype=torch.float64)\n",
      "tensor(20.4961, dtype=torch.float64)\n",
      "tensor(20.2548, dtype=torch.float64)\n",
      "tensor(20.0160, dtype=torch.float64)\n",
      "tensor(19.7799, dtype=torch.float64)\n",
      "tensor(19.5462, dtype=torch.float64)\n",
      "tensor(19.3151, dtype=torch.float64)\n",
      "tensor(19.0865, dtype=torch.float64)\n",
      "tensor(18.8604, dtype=torch.float64)\n",
      "tensor(18.6367, dtype=torch.float64)\n",
      "tensor(18.4154, dtype=torch.float64)\n",
      "tensor(18.1965, dtype=torch.float64)\n",
      "tensor(17.9800, dtype=torch.float64)\n",
      "tensor(17.7659, dtype=torch.float64)\n",
      "tensor(17.5540, dtype=torch.float64)\n",
      "tensor(17.3445, dtype=torch.float64)\n",
      "tensor(17.1372, dtype=torch.float64)\n",
      "tensor(16.9322, dtype=torch.float64)\n",
      "tensor(16.7294, dtype=torch.float64)\n",
      "tensor(16.5288, dtype=torch.float64)\n",
      "tensor(16.3304, dtype=torch.float64)\n",
      "tensor(16.1342, dtype=torch.float64)\n",
      "tensor(15.9401, dtype=torch.float64)\n",
      "tensor(15.7481, dtype=torch.float64)\n",
      "tensor(15.5582, dtype=torch.float64)\n",
      "tensor(15.3704, dtype=torch.float64)\n",
      "tensor(15.1846, dtype=torch.float64)\n",
      "tensor(15.0008, dtype=torch.float64)\n",
      "tensor(14.8191, dtype=torch.float64)\n",
      "tensor(14.6394, dtype=torch.float64)\n",
      "tensor(14.4616, dtype=torch.float64)\n",
      "tensor(14.2858, dtype=torch.float64)\n",
      "tensor(14.1119, dtype=torch.float64)\n",
      "tensor(13.9399, dtype=torch.float64)\n",
      "tensor(13.7698, dtype=torch.float64)\n",
      "tensor(13.6015, dtype=torch.float64)\n",
      "tensor(13.4351, dtype=torch.float64)\n",
      "tensor(13.2706, dtype=torch.float64)\n",
      "tensor(13.1078, dtype=torch.float64)\n",
      "tensor(12.9469, dtype=torch.float64)\n",
      "tensor(12.7877, dtype=torch.float64)\n",
      "tensor(12.6303, dtype=torch.float64)\n",
      "tensor(12.4746, dtype=torch.float64)\n",
      "tensor(12.3207, dtype=torch.float64)\n",
      "tensor(12.1684, dtype=torch.float64)\n",
      "tensor(12.0178, dtype=torch.float64)\n",
      "tensor(11.8689, dtype=torch.float64)\n",
      "tensor(11.7217, dtype=torch.float64)\n",
      "tensor(11.5760, dtype=torch.float64)\n"
     ]
    }
   ],
   "source": [
    "w = torch.rand(1, requires_grad=True, dtype=torch.float64)\n",
    "b = torch.rand(1, requires_grad=True, dtype=torch.float64)\n",
    "\n",
    "num_epochs = 100\n",
    "learning_rate = 1e-3\n",
    "for epoch in range(num_epochs):\n",
    "  for i in range(len(X)):\n",
    "    # x, y = torch.tensor(X_list[i]), torch.tensor(y_list[i])\n",
    "    # forward pass\n",
    "    y_predict = X[i] * w + b\n",
    "    # calculate loss\n",
    "    loss_tensor = torch.pow(y_predict - y[i], 2)\n",
    "    # backward pass\n",
    "    loss_tensor.backward()\n",
    "    # extract losses\n",
    "    loss_value = loss_tensor.data[0]\n",
    "    # update weights and biases\n",
    "    with torch.no_grad():\n",
    "      w -= w.grad * learning_rate\n",
    "      b -= b.grad * learning_rate\n",
    "      w.grad.zero_()\n",
    "      b.grad.zero_()\n",
    "  print(loss_value)"
   ]
  },
  {
   "cell_type": "code",
   "execution_count": 7,
   "id": "513449f5",
   "metadata": {
    "lines_to_next_cell": 0,
    "title": "check results"
   },
   "outputs": [
    {
     "name": "stdout",
     "output_type": "stream",
     "text": [
      "Weight: 0.9355870376978588, Bias: 15.45610298467423\n"
     ]
    }
   ],
   "source": [
    "print(f\"Weight: {w.item()}, Bias: {b.item()}\")"
   ]
  },
  {
   "cell_type": "code",
   "execution_count": 8,
   "id": "d6e66a7c",
   "metadata": {
    "lines_to_next_cell": 0
   },
   "outputs": [],
   "source": [
    "y_pred = (torch.tensor(X_list)*w+b).detach().numpy()"
   ]
  },
  {
   "cell_type": "code",
   "execution_count": 9,
   "id": "6e8bbc63",
   "metadata": {
    "lines_to_next_cell": 0
   },
   "outputs": [
    {
     "data": {
      "text/plain": [
       "<AxesSubplot:>"
      ]
     },
     "execution_count": 9,
     "metadata": {},
     "output_type": "execute_result"
    },
    {
     "data": {
      "image/png": "[encoded data removed]",
      "text/plain": [
       "<Figure size 432x288 with 1 Axes>"
      ]
     },
     "metadata": {
      "needs_background": "light"
     },
     "output_type": "display_data"
    }
   ],
   "source": [
    "sns.scatterplot(x=X_list, y=y_list)\n",
    "sns.lineplot(x=X_list, y=y_pred, color='red')"
   ]
  },
  {
   "cell_type": "code",
   "execution_count": 10,
   "id": "249a6b36",
   "metadata": {
    "lines_to_next_cell": 2,
    "title": "(Statistical) Linear Regression"
   },
   "outputs": [
    {
     "name": "stdout",
     "output_type": "stream",
     "text": [
      "Slope: [-5.3444715], Bias: 37.285125732421875\n"
     ]
    }
   ],
   "source": [
    "from sklearn.linear_model import LinearRegression\n",
    "reg = LinearRegression().fit(X_np, y_list)\n",
    "print(f\"Slope: {reg.coef_}, Bias: {reg.intercept_}\")"
   ]
  },
  {
   "cell_type": "code",
   "execution_count": null,
   "id": "91ea3359-9cb3-4654-9058-7b3227e8bb56",
   "metadata": {
    "tags": []
   },
   "outputs": [],
   "source": [
    "#import os\n",
    "#os.environ['PATH']"
   ]
  },
  {
   "cell_type": "code",
   "execution_count": null,
   "id": "ebcbc707-4468-4496-afa6-029101685eb3",
   "metadata": {
    "tags": []
   },
   "outputs": [],
   "source": [
    "#%pip install torchviz - installed in site-packages\n",
    "# %conda install -c conda-forge graphviz # installed in /opt/conda/"
   ]
  },
  {
   "cell_type": "code",
   "execution_count": 13,
   "id": "11e00c0f",
   "metadata": {
    "lines_to_next_cell": 0,
    "title": "create graph visualisation"
   },
   "outputs": [
    {
     "ename": "AttributeError",
     "evalue": "module 'graphviz.backend' has no attribute 'ENCODING'",
     "output_type": "error",
     "traceback": [
      "\u001b[0;31m---------------------------------------------------------------------------\u001b[0m",
      "\u001b[0;31mAttributeError\u001b[0m                            Traceback (most recent call last)",
      "\u001b[0;32m<ipython-input-13-33ae3b4b73e7>\u001b[0m in \u001b[0;36m<module>\u001b[0;34m\u001b[0m\n\u001b[1;32m      2\u001b[0m \u001b[0;31m# if not computer restarted, append directly to PATH variable\u001b[0m\u001b[0;34m\u001b[0m\u001b[0;34m\u001b[0m\u001b[0;34m\u001b[0m\u001b[0m\n\u001b[1;32m      3\u001b[0m \u001b[0;32mimport\u001b[0m \u001b[0mos\u001b[0m\u001b[0;34m\u001b[0m\u001b[0;34m\u001b[0m\u001b[0m\n\u001b[0;32m----> 4\u001b[0;31m \u001b[0;32mfrom\u001b[0m \u001b[0mtorchviz\u001b[0m \u001b[0;32mimport\u001b[0m \u001b[0mmake_dot\u001b[0m\u001b[0;34m\u001b[0m\u001b[0;34m\u001b[0m\u001b[0m\n\u001b[0m\u001b[1;32m      5\u001b[0m \u001b[0mos\u001b[0m\u001b[0;34m.\u001b[0m\u001b[0menviron\u001b[0m\u001b[0;34m[\u001b[0m\u001b[0;34m'PATH'\u001b[0m\u001b[0;34m]\u001b[0m \u001b[0;34m+=\u001b[0m \u001b[0mos\u001b[0m\u001b[0;34m.\u001b[0m\u001b[0mpathsep\u001b[0m \u001b[0;34m+\u001b[0m \u001b[0;34m'/opt/conda/graphviz/'\u001b[0m\u001b[0;34m\u001b[0m\u001b[0;34m\u001b[0m\u001b[0m\n\u001b[1;32m      6\u001b[0m \u001b[0mmake_dot\u001b[0m\u001b[0;34m(\u001b[0m\u001b[0mloss_tensor\u001b[0m\u001b[0;34m)\u001b[0m\u001b[0;34m\u001b[0m\u001b[0;34m\u001b[0m\u001b[0m\n",
      "\u001b[0;32m/opt/conda/lib/python3.6/site-packages/torchviz/__init__.py\u001b[0m in \u001b[0;36m<module>\u001b[0;34m\u001b[0m\n\u001b[0;32m----> 1\u001b[0;31m \u001b[0;32mfrom\u001b[0m \u001b[0;34m.\u001b[0m\u001b[0mdot\u001b[0m \u001b[0;32mimport\u001b[0m \u001b[0mmake_dot\u001b[0m\u001b[0;34m,\u001b[0m \u001b[0mmake_dot_from_trace\u001b[0m\u001b[0;34m\u001b[0m\u001b[0;34m\u001b[0m\u001b[0m\n\u001b[0m",
      "\u001b[0;32m/opt/conda/lib/python3.6/site-packages/torchviz/dot.py\u001b[0m in \u001b[0;36m<module>\u001b[0;34m\u001b[0m\n\u001b[1;32m      1\u001b[0m \u001b[0;32mfrom\u001b[0m \u001b[0mcollections\u001b[0m \u001b[0;32mimport\u001b[0m \u001b[0mnamedtuple\u001b[0m\u001b[0;34m\u001b[0m\u001b[0;34m\u001b[0m\u001b[0m\n\u001b[1;32m      2\u001b[0m \u001b[0;32mfrom\u001b[0m \u001b[0mdistutils\u001b[0m\u001b[0;34m.\u001b[0m\u001b[0mversion\u001b[0m \u001b[0;32mimport\u001b[0m \u001b[0mLooseVersion\u001b[0m\u001b[0;34m\u001b[0m\u001b[0;34m\u001b[0m\u001b[0m\n\u001b[0;32m----> 3\u001b[0;31m \u001b[0;32mfrom\u001b[0m \u001b[0mgraphviz\u001b[0m \u001b[0;32mimport\u001b[0m \u001b[0mDigraph\u001b[0m\u001b[0;34m\u001b[0m\u001b[0;34m\u001b[0m\u001b[0m\n\u001b[0m\u001b[1;32m      4\u001b[0m \u001b[0;32mimport\u001b[0m \u001b[0mtorch\u001b[0m\u001b[0;34m\u001b[0m\u001b[0;34m\u001b[0m\u001b[0m\n\u001b[1;32m      5\u001b[0m \u001b[0;32mfrom\u001b[0m \u001b[0mtorch\u001b[0m\u001b[0;34m.\u001b[0m\u001b[0mautograd\u001b[0m \u001b[0;32mimport\u001b[0m \u001b[0mVariable\u001b[0m\u001b[0;34m\u001b[0m\u001b[0;34m\u001b[0m\u001b[0m\n",
      "\u001b[0;32m/opt/conda/lib/python3.6/site-packages/graphviz/__init__.py\u001b[0m in \u001b[0;36m<module>\u001b[0;34m\u001b[0m\n\u001b[1;32m     25\u001b[0m \"\"\"\n\u001b[1;32m     26\u001b[0m \u001b[0;34m\u001b[0m\u001b[0m\n\u001b[0;32m---> 27\u001b[0;31m \u001b[0;32mfrom\u001b[0m \u001b[0;34m.\u001b[0m\u001b[0mdot\u001b[0m \u001b[0;32mimport\u001b[0m \u001b[0mGraph\u001b[0m\u001b[0;34m,\u001b[0m \u001b[0mDigraph\u001b[0m\u001b[0;34m\u001b[0m\u001b[0;34m\u001b[0m\u001b[0m\n\u001b[0m\u001b[1;32m     28\u001b[0m \u001b[0;32mfrom\u001b[0m \u001b[0;34m.\u001b[0m\u001b[0mfiles\u001b[0m \u001b[0;32mimport\u001b[0m \u001b[0mSource\u001b[0m\u001b[0;34m\u001b[0m\u001b[0;34m\u001b[0m\u001b[0m\n\u001b[1;32m     29\u001b[0m \u001b[0;32mfrom\u001b[0m \u001b[0;34m.\u001b[0m\u001b[0mlang\u001b[0m \u001b[0;32mimport\u001b[0m \u001b[0mescape\u001b[0m\u001b[0;34m,\u001b[0m \u001b[0mnohtml\u001b[0m\u001b[0;34m\u001b[0m\u001b[0;34m\u001b[0m\u001b[0m\n",
      "\u001b[0;32m/opt/conda/lib/python3.6/site-packages/graphviz/dot.py\u001b[0m in \u001b[0;36m<module>\u001b[0;34m\u001b[0m\n\u001b[1;32m     30\u001b[0m \u001b[0;34m\u001b[0m\u001b[0m\n\u001b[1;32m     31\u001b[0m \u001b[0;32mfrom\u001b[0m \u001b[0;34m.\u001b[0m \u001b[0;32mimport\u001b[0m \u001b[0mbackend\u001b[0m\u001b[0;34m\u001b[0m\u001b[0;34m\u001b[0m\u001b[0m\n\u001b[0;32m---> 32\u001b[0;31m \u001b[0;32mfrom\u001b[0m \u001b[0;34m.\u001b[0m \u001b[0;32mimport\u001b[0m \u001b[0mfiles\u001b[0m\u001b[0;34m\u001b[0m\u001b[0;34m\u001b[0m\u001b[0m\n\u001b[0m\u001b[1;32m     33\u001b[0m \u001b[0;32mfrom\u001b[0m \u001b[0;34m.\u001b[0m \u001b[0;32mimport\u001b[0m \u001b[0mlang\u001b[0m\u001b[0;34m\u001b[0m\u001b[0;34m\u001b[0m\u001b[0m\n\u001b[1;32m     34\u001b[0m \u001b[0;34m\u001b[0m\u001b[0m\n",
      "\u001b[0;32m/opt/conda/lib/python3.6/site-packages/graphviz/files.py\u001b[0m in \u001b[0;36m<module>\u001b[0;34m\u001b[0m\n\u001b[1;32m     20\u001b[0m \u001b[0;34m\u001b[0m\u001b[0m\n\u001b[1;32m     21\u001b[0m \u001b[0;34m\u001b[0m\u001b[0m\n\u001b[0;32m---> 22\u001b[0;31m \u001b[0;32mclass\u001b[0m \u001b[0mBase\u001b[0m\u001b[0;34m(\u001b[0m\u001b[0mobject\u001b[0m\u001b[0;34m)\u001b[0m\u001b[0;34m:\u001b[0m\u001b[0;34m\u001b[0m\u001b[0;34m\u001b[0m\u001b[0m\n\u001b[0m\u001b[1;32m     23\u001b[0m \u001b[0;34m\u001b[0m\u001b[0m\n\u001b[1;32m     24\u001b[0m     \u001b[0m_engine\u001b[0m \u001b[0;34m=\u001b[0m \u001b[0;34m'dot'\u001b[0m\u001b[0;34m\u001b[0m\u001b[0;34m\u001b[0m\u001b[0m\n",
      "\u001b[0;32m/opt/conda/lib/python3.6/site-packages/graphviz/files.py\u001b[0m in \u001b[0;36mBase\u001b[0;34m()\u001b[0m\n\u001b[1;32m     26\u001b[0m     \u001b[0m_format\u001b[0m \u001b[0;34m=\u001b[0m \u001b[0;34m'pdf'\u001b[0m\u001b[0;34m\u001b[0m\u001b[0;34m\u001b[0m\u001b[0m\n\u001b[1;32m     27\u001b[0m \u001b[0;34m\u001b[0m\u001b[0m\n\u001b[0;32m---> 28\u001b[0;31m     \u001b[0m_encoding\u001b[0m \u001b[0;34m=\u001b[0m \u001b[0mbackend\u001b[0m\u001b[0;34m.\u001b[0m\u001b[0mENCODING\u001b[0m\u001b[0;34m\u001b[0m\u001b[0;34m\u001b[0m\u001b[0m\n\u001b[0m\u001b[1;32m     29\u001b[0m \u001b[0;34m\u001b[0m\u001b[0m\n\u001b[1;32m     30\u001b[0m     \u001b[0;34m@\u001b[0m\u001b[0mproperty\u001b[0m\u001b[0;34m\u001b[0m\u001b[0;34m\u001b[0m\u001b[0m\n",
      "\u001b[0;31mAttributeError\u001b[0m: module 'graphviz.backend' has no attribute 'ENCODING'"
     ]
    }
   ],
   "source": [
    "# make sure GraphViz is installed (https://graphviz.org/download/)\n",
    "# if not computer restarted, append directly to PATH variable\n",
    "import os\n",
    "from torchviz import make_dot\n",
    "os.environ['PATH'] += os.pathsep + '/opt/conda/'\n",
    "make_dot(loss_tensor)"
   ]
  },
  {
   "cell_type": "code",
   "execution_count": null,
   "id": "33f55c19",
   "metadata": {},
   "outputs": [],
   "source": []
  }
 ],
 "metadata": {
  "instance_type": "ml.t3.medium",
  "jupytext": {
   "cell_metadata_filter": "title,-all",
   "main_language": "python",
   "notebook_metadata_filter": "-all"
  },
  "kernelspec": {
   "display_name": "Python 3 (PyTorch 1.8 Python 3.6 GPU Optimized)",
   "language": "python",
   "name": "python3__SAGEMAKER_INTERNAL__arn:aws:sagemaker:us-west-2:236514542706:image/pytorch-1.8-gpu-py36"
  },
  "language_info": {
   "codemirror_mode": {
    "name": "ipython",
    "version": 3
   },
   "file_extension": ".py",
   "mimetype": "text/x-python",
   "name": "python",
   "nbconvert_exporter": "python",
   "pygments_lexer": "ipython3",
   "version": "3.6.13"
  }
 },
 "nbformat": 4,
 "nbformat_minor": 5
}

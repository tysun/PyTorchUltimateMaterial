{
 "cells": [
  {
   "cell_type": "code",
   "execution_count": null,
   "id": "ca8d73f7",
   "metadata": {
    "title": "packages"
   },
   "outputs": [],
   "source": [
    "import numpy as np\n",
    "import pandas as pd\n",
    "import torch\n",
    "import torch.nn as nn \n",
    "import seaborn as sns"
   ]
  },
  {
   "cell_type": "code",
   "execution_count": null,
   "id": "7abac6af",
   "metadata": {
    "title": "data import"
   },
   "outputs": [],
   "source": [
    "cars_file = 'https://gist.githubusercontent.com/noamross/e5d3e859aa0c794be10b/raw/b999fb4425b54c63cab088c0ce2c0d6ce961a563/cars.csv'\n",
    "cars = pd.read_csv(cars_file)\n",
    "cars.head()"
   ]
  },
  {
   "cell_type": "code",
   "execution_count": null,
   "id": "467a1ca8",
   "metadata": {
    "title": "visualise the model"
   },
   "outputs": [],
   "source": [
    "sns.scatterplot(x='wt', y='mpg', data=cars)\n",
    "sns.regplot(x='wt', y='mpg', data=cars)"
   ]
  },
  {
   "cell_type": "code",
   "execution_count": null,
   "id": "abb73c48",
   "metadata": {
    "lines_to_next_cell": 2,
    "title": "convert data to tensor"
   },
   "outputs": [],
   "source": []
  },
  {
   "cell_type": "code",
   "execution_count": null,
   "id": "7e64cc3f",
   "metadata": {
    "title": "training"
   },
   "outputs": [],
   "source": []
  },
  {
   "cell_type": "code",
   "execution_count": null,
   "id": "5a9883a6",
   "metadata": {
    "lines_to_next_cell": 0,
    "title": "check results"
   },
   "outputs": [],
   "source": []
  },
  {
   "cell_type": "code",
   "execution_count": null,
   "id": "a172bc0b",
   "metadata": {},
   "outputs": [],
   "source": []
  },
  {
   "cell_type": "code",
   "execution_count": null,
   "id": "12cb61e9",
   "metadata": {
    "lines_to_next_cell": 2,
    "title": "(Statistical) Linear Regression"
   },
   "outputs": [],
   "source": []
  },
  {
   "cell_type": "code",
   "execution_count": null,
   "id": "62af46a7",
   "metadata": {
    "lines_to_next_cell": 0,
    "title": "create graph visualisation"
   },
   "outputs": [],
   "source": [
    "# make sure GraphViz is installed (https://graphviz.org/download/)\n",
    "# if not computer restarted, append directly to PATH variable\n",
    "# import os\n",
    "# from torchviz import make_dot\n",
    "# os.environ['PATH'] += os.pathsep + 'C:/Program Files (x86)/Graphviz/bin'\n",
    "# make_dot(loss_tensor)"
   ]
  },
  {
   "cell_type": "code",
   "execution_count": null,
   "id": "ee77d4fc",
   "metadata": {},
   "outputs": [],
   "source": []
  }
 ],
 "metadata": {
  "jupytext": {
   "cell_metadata_filter": "title,-all",
   "main_language": "python",
   "notebook_metadata_filter": "-all"
  }
 },
 "nbformat": 4,
 "nbformat_minor": 5
}

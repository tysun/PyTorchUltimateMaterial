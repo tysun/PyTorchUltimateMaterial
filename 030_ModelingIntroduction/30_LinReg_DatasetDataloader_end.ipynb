{
 "cells": [
  {
   "cell_type": "code",
   "execution_count": null,
   "id": "d5832dc3",
   "metadata": {
    "title": "packages"
   },
   "outputs": [],
   "source": [
    "import graphlib\n",
    "import numpy as np\n",
    "import pandas as pd\n",
    "import torch\n",
    "import torch.nn as nn\n",
    "from torch.utils.data import Dataset, DataLoader \n",
    "import seaborn as sns"
   ]
  },
  {
   "cell_type": "code",
   "execution_count": null,
   "id": "8ae8410c",
   "metadata": {
    "title": "data import"
   },
   "outputs": [],
   "source": [
    "cars_file = 'https://gist.githubusercontent.com/noamross/e5d3e859aa0c794be10b/raw/b999fb4425b54c63cab088c0ce2c0d6ce961a563/cars.csv'\n",
    "cars = pd.read_csv(cars_file)\n",
    "cars.head()"
   ]
  },
  {
   "cell_type": "code",
   "execution_count": null,
   "id": "e3fbd104",
   "metadata": {
    "title": "visualise the model"
   },
   "outputs": [],
   "source": [
    "sns.scatterplot(x='wt', y='mpg', data=cars)\n",
    "sns.regplot(x='wt', y='mpg', data=cars)"
   ]
  },
  {
   "cell_type": "code",
   "execution_count": null,
   "id": "06b5ebac",
   "metadata": {
    "lines_to_next_cell": 1,
    "title": "convert data to tensor"
   },
   "outputs": [],
   "source": [
    "X_list = cars.wt.values\n",
    "X_np = np.array(X_list, dtype=np.float32).reshape(-1,1)\n",
    "y_list = cars.mpg.values\n",
    "y_np = np.array(y_list, dtype=np.float32).reshape(-1,1)\n",
    "X = torch.from_numpy(X_np)\n",
    "y_true = torch.from_numpy(y_np)"
   ]
  },
  {
   "cell_type": "code",
   "execution_count": null,
   "id": "7c2ff483",
   "metadata": {
    "title": "Dataset and Dataloader"
   },
   "outputs": [],
   "source": [
    "class LinearRegressionDataset(Dataset):\n",
    "    def __init__(self, X, y):\n",
    "        self.X = X\n",
    "        self.y = y\n",
    "    \n",
    "    def __len__(self):\n",
    "        return len(self.X)\n",
    "    \n",
    "    def __getitem__(self, idx):\n",
    "        return self.X[idx], self.y[idx]\n",
    "\n",
    "train_loader = DataLoader(dataset = LinearRegressionDataset(X_np, y_np), batch_size=2)"
   ]
  },
  {
   "cell_type": "code",
   "execution_count": null,
   "id": "90d8f3d6",
   "metadata": {},
   "outputs": [],
   "source": [
    "class LinearRegressionTorch(nn.Module):\n",
    "    def __init__(self, input_size, output_size):\n",
    "        super(LinearRegressionTorch, self).__init__()\n",
    "        self.linear = nn.Linear(input_size, output_size)\n",
    "    \n",
    "    def forward(self, x):\n",
    "        return self.linear(x)\n",
    "\n",
    "input_dim = 1\n",
    "output_dim = 1\n",
    "model = LinearRegressionTorch(input_size=input_dim, output_size=output_dim)\n",
    "model.train()"
   ]
  },
  {
   "cell_type": "code",
   "execution_count": null,
   "id": "fa08dd9f",
   "metadata": {
    "title": "Mean Squared Error"
   },
   "outputs": [],
   "source": [
    "loss_fun = nn.MSELoss()"
   ]
  },
  {
   "cell_type": "code",
   "execution_count": null,
   "id": "692f80ab",
   "metadata": {
    "title": "Optimizer"
   },
   "outputs": [],
   "source": [
    "learning_rate = 0.02\n",
    "# test different values of too large 0.1 and too small 0.001\n",
    "# best 0.02\n",
    "optimizer = torch.optim.SGD(model.parameters(), lr=learning_rate)\n",
    "\n",
    "# check trainloader return\n",
    "# for i, data in enumerate(train_loader):\n",
    "#     print(data)"
   ]
  },
  {
   "cell_type": "code",
   "execution_count": null,
   "id": "562c13e0",
   "metadata": {
    "title": "perform training"
   },
   "outputs": [],
   "source": [
    "losses = []\n",
    "slope, bias = [], []\n",
    "number_epochs = 1000\n",
    "for epoch in range(number_epochs):\n",
    "    for j, (X, y) in enumerate(train_loader):\n",
    "        # optimization\n",
    "        optimizer.zero_grad()\n",
    "\n",
    "        # forward pass\n",
    "        y_pred = model(X)\n",
    "\n",
    "        # compute loss\n",
    "        loss = loss_fun(y_pred, y)\n",
    "        losses.append(loss.item())\n",
    "\n",
    "        # backprop\n",
    "        loss.backward()\n",
    "\n",
    "        # update weights\n",
    "        optimizer.step()\n",
    "    \n",
    "    # get parameters\n",
    "    for name, param in model.named_parameters():\n",
    "        if param.requires_grad:\n",
    "            if name == 'linear.weight':\n",
    "                slope.append(param.data.numpy()[0][0])\n",
    "            if name == 'linear.bias':\n",
    "                bias.append(param.data.numpy()[0])\n",
    "\n",
    "\n",
    "    # store loss\n",
    "    losses.append(float(loss.data))\n",
    "    # print loss\n",
    "    if (epoch % 100 == 0):\n",
    "        print(f\"Epoch {epoch}, Loss: {loss.data}\")\n",
    "\n",
    "    "
   ]
  },
  {
   "cell_type": "code",
   "execution_count": null,
   "id": "396f0f92",
   "metadata": {
    "title": "visualise model training"
   },
   "outputs": [],
   "source": [
    "sns.scatterplot(x=range(len(losses)), y=losses)"
   ]
  },
  {
   "cell_type": "code",
   "execution_count": null,
   "id": "4542d7ba",
   "metadata": {
    "lines_to_next_cell": 0,
    "title": "visualise the bias development"
   },
   "outputs": [],
   "source": [
    "sns.lineplot(x=range(number_epochs), y=bias)"
   ]
  },
  {
   "cell_type": "code",
   "execution_count": null,
   "id": "5963d742",
   "metadata": {
    "title": "visualise the slope development"
   },
   "outputs": [],
   "source": [
    "sns.lineplot(x=range(number_epochs), y=slope)\n",
    "\n"
   ]
  },
  {
   "cell_type": "code",
   "execution_count": null,
   "id": "f7317737",
   "metadata": {
    "lines_to_next_cell": 0,
    "title": "check the result"
   },
   "outputs": [],
   "source": [
    "model.eval()\n",
    "y_pred = [i[0] for i in model(X).data.numpy()]\n",
    "y = [i[0] for i in y_true.data.numpy()]\n",
    "sns.scatterplot(x=X_list, y=y)\n",
    "sns.lineplot(x=X_list, y=y_pred, color='red')"
   ]
  },
  {
   "cell_type": "code",
   "execution_count": null,
   "id": "c2ece3f1",
   "metadata": {
    "lines_to_next_cell": 0
   },
   "outputs": [],
   "source": [
    "import hiddenlayer as hl\n",
    "graph = hl.build_graph(model, X)"
   ]
  },
  {
   "cell_type": "code",
   "execution_count": null,
   "id": "0ca6cefe",
   "metadata": {},
   "outputs": [],
   "source": []
  }
 ],
 "metadata": {
  "jupytext": {
   "cell_metadata_filter": "title,-all",
   "main_language": "python",
   "notebook_metadata_filter": "-all"
  }
 },
 "nbformat": 4,
 "nbformat_minor": 5
}

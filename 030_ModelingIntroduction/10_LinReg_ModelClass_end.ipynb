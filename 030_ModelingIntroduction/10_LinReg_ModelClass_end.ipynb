{
 "cells": [
  {
   "cell_type": "code",
   "execution_count": null,
   "id": "cd99fcb8",
   "metadata": {
    "title": "packages"
   },
   "outputs": [],
   "source": [
    "import numpy as np\n",
    "import pandas as pd\n",
    "import torch\n",
    "import torch.nn as nn \n",
    "import seaborn as sns"
   ]
  },
  {
   "cell_type": "code",
   "execution_count": null,
   "id": "043c9da9",
   "metadata": {
    "title": "data import"
   },
   "outputs": [],
   "source": [
    "cars_file = 'https://gist.githubusercontent.com/noamross/e5d3e859aa0c794be10b/raw/b999fb4425b54c63cab088c0ce2c0d6ce961a563/cars.csv'\n",
    "cars = pd.read_csv(cars_file)\n",
    "cars.head()"
   ]
  },
  {
   "cell_type": "code",
   "execution_count": null,
   "id": "2a1e38e3",
   "metadata": {
    "title": "visualise the model"
   },
   "outputs": [],
   "source": [
    "sns.scatterplot(x='wt', y='mpg', data=cars)\n",
    "sns.regplot(x='wt', y='mpg', data=cars)"
   ]
  },
  {
   "cell_type": "code",
   "execution_count": null,
   "id": "30b45803",
   "metadata": {
    "lines_to_next_cell": 1,
    "title": "convert data to tensor"
   },
   "outputs": [],
   "source": [
    "X_list = cars.wt.values\n",
    "X_np = np.array(X_list, dtype=np.float32).reshape(-1,1)\n",
    "y_list = cars.mpg.values\n",
    "y_np = np.array(y_list, dtype=np.float32).reshape(-1,1)\n",
    "X = torch.from_numpy(X_np)\n",
    "y_true = torch.from_numpy(y_np)"
   ]
  },
  {
   "cell_type": "code",
   "execution_count": null,
   "id": "b4ce90f6",
   "metadata": {
    "lines_to_next_cell": 2
   },
   "outputs": [],
   "source": [
    "class LinearRegressionTorch(nn.Module):\n",
    "    def __init__(self, input_size, output_size):\n",
    "        super(LinearRegressionTorch, self).__init__()\n",
    "        self.linear = nn.Linear(input_size, output_size)\n",
    "    \n",
    "    def forward(self, x):\n",
    "        return self.linear(x)\n",
    "\n",
    "input_dim = 1\n",
    "output_dim = 1\n",
    "model = LinearRegressionTorch(input_size=input_dim, output_size=output_dim)"
   ]
  },
  {
   "cell_type": "code",
   "execution_count": null,
   "id": "e5f34915",
   "metadata": {
    "title": "Mean Squared Error"
   },
   "outputs": [],
   "source": [
    "loss_fun = nn.MSELoss()"
   ]
  },
  {
   "cell_type": "code",
   "execution_count": null,
   "id": "c9f3331a",
   "metadata": {
    "title": "Optimizer"
   },
   "outputs": [],
   "source": [
    "LR = 0.02\n",
    "# test different values of too large 0.1 and too small 0.001\n",
    "# best 0.02\n",
    "optimizer = torch.optim.SGD(model.parameters(), lr=LR)"
   ]
  },
  {
   "cell_type": "code",
   "execution_count": null,
   "id": "b2503039",
   "metadata": {
    "title": "perform training"
   },
   "outputs": [],
   "source": [
    "losses, slope, bias = [], [], []\n",
    "NUM_EPOCHS = 1000\n",
    "for epoch in range(NUM_EPOCHS):\n",
    "    \n",
    "    # set gradients to zero\n",
    "    optimizer.zero_grad()\n",
    "\n",
    "    # forward pass\n",
    "    y_pred = model(X)\n",
    "\n",
    "    # calculate loss\n",
    "    loss = loss_fun(y_pred, y_true)\n",
    "    loss.backward()\n",
    "\n",
    "    # update parameters\n",
    "    optimizer.step()\n",
    "\n",
    "    # get parameters\n",
    "    for name, param in model.named_parameters():\n",
    "        if param.requires_grad:\n",
    "            if name == 'linear.weight':\n",
    "                slope.append(param.data.numpy()[0][0])\n",
    "            if name == 'linear.bias':\n",
    "                bias.append(param.data.numpy()[0])\n",
    "\n",
    "\n",
    "    # store loss\n",
    "    losses.append(float(loss.data))\n",
    "    # print loss\n",
    "    if (epoch % 100 == 0):\n",
    "        print(f\"Epoch {epoch}, Loss: {loss.data}\")"
   ]
  },
  {
   "cell_type": "code",
   "execution_count": null,
   "id": "e9b8eb2a",
   "metadata": {
    "title": "visualise model training"
   },
   "outputs": [],
   "source": [
    "sns.scatterplot(x=range(NUM_EPOCHS), y=losses)"
   ]
  },
  {
   "cell_type": "code",
   "execution_count": null,
   "id": "67a5f927",
   "metadata": {
    "lines_to_next_cell": 0,
    "title": "visualise the bias development"
   },
   "outputs": [],
   "source": [
    "sns.lineplot(x=range(NUM_EPOCHS), y=bias)"
   ]
  },
  {
   "cell_type": "code",
   "execution_count": null,
   "id": "b1cf98ad",
   "metadata": {
    "title": "visualise the slope development"
   },
   "outputs": [],
   "source": [
    "sns.lineplot(x=range(NUM_EPOCHS), y=slope)"
   ]
  },
  {
   "cell_type": "code",
   "execution_count": null,
   "id": "5aba76ee",
   "metadata": {
    "lines_to_next_cell": 0,
    "title": "check the result"
   },
   "outputs": [],
   "source": [
    "y_pred = model(X).data.numpy().reshape(-1)\n",
    "sns.scatterplot(x=X_list, y=y_list)\n",
    "sns.lineplot(x=X_list, y=y_pred, color='red')"
   ]
  },
  {
   "cell_type": "code",
   "execution_count": null,
   "id": "4feaea34",
   "metadata": {},
   "outputs": [],
   "source": []
  }
 ],
 "metadata": {
  "jupytext": {
   "cell_metadata_filter": "title,-all",
   "main_language": "python",
   "notebook_metadata_filter": "-all"
  }
 },
 "nbformat": 4,
 "nbformat_minor": 5
}

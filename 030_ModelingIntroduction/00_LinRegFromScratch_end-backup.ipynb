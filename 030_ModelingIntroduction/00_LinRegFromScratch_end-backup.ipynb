{
 "cells": [
  {
   "cell_type": "code",
   "execution_count": 1,
   "id": "f5f1a0e3",
   "metadata": {
    "tags": [],
    "title": "packages"
   },
   "outputs": [],
   "source": [
    "import numpy as np\n",
    "import pandas as pd\n",
    "import torch\n",
    "import torch.nn as nn \n",
    "import seaborn as sns"
   ]
  },
  {
   "cell_type": "code",
   "execution_count": 3,
   "id": "49864450",
   "metadata": {
    "tags": [],
    "title": "data import"
   },
   "outputs": [
    {
     "data": {
      "text/html": [
       "<div>\n",
       "<style scoped>\n",
       "    .dataframe tbody tr th:only-of-type {\n",
       "        vertical-align: middle;\n",
       "    }\n",
       "\n",
       "    .dataframe tbody tr th {\n",
       "        vertical-align: top;\n",
       "    }\n",
       "\n",
       "    .dataframe thead th {\n",
       "        text-align: right;\n",
       "    }\n",
       "</style>\n",
       "<table border=\"1\" class=\"dataframe\">\n",
       "  <thead>\n",
       "    <tr style=\"text-align: right;\">\n",
       "      <th></th>\n",
       "      <th>Unnamed: 0</th>\n",
       "      <th>mpg</th>\n",
       "      <th>cyl</th>\n",
       "      <th>disp</th>\n",
       "      <th>hp</th>\n",
       "      <th>drat</th>\n",
       "      <th>wt</th>\n",
       "      <th>qsec</th>\n",
       "      <th>vs</th>\n",
       "      <th>am</th>\n",
       "      <th>gear</th>\n",
       "      <th>carb</th>\n",
       "    </tr>\n",
       "  </thead>\n",
       "  <tbody>\n",
       "    <tr>\n",
       "      <th>0</th>\n",
       "      <td>Mazda RX4</td>\n",
       "      <td>21.0</td>\n",
       "      <td>6</td>\n",
       "      <td>160.0</td>\n",
       "      <td>110</td>\n",
       "      <td>3.90</td>\n",
       "      <td>2.620</td>\n",
       "      <td>16.46</td>\n",
       "      <td>0</td>\n",
       "      <td>1</td>\n",
       "      <td>4</td>\n",
       "      <td>4</td>\n",
       "    </tr>\n",
       "    <tr>\n",
       "      <th>1</th>\n",
       "      <td>Mazda RX4 Wag</td>\n",
       "      <td>21.0</td>\n",
       "      <td>6</td>\n",
       "      <td>160.0</td>\n",
       "      <td>110</td>\n",
       "      <td>3.90</td>\n",
       "      <td>2.875</td>\n",
       "      <td>17.02</td>\n",
       "      <td>0</td>\n",
       "      <td>1</td>\n",
       "      <td>4</td>\n",
       "      <td>4</td>\n",
       "    </tr>\n",
       "    <tr>\n",
       "      <th>2</th>\n",
       "      <td>Datsun 710</td>\n",
       "      <td>22.8</td>\n",
       "      <td>4</td>\n",
       "      <td>108.0</td>\n",
       "      <td>93</td>\n",
       "      <td>3.85</td>\n",
       "      <td>2.320</td>\n",
       "      <td>18.61</td>\n",
       "      <td>1</td>\n",
       "      <td>1</td>\n",
       "      <td>4</td>\n",
       "      <td>1</td>\n",
       "    </tr>\n",
       "    <tr>\n",
       "      <th>3</th>\n",
       "      <td>Hornet 4 Drive</td>\n",
       "      <td>21.4</td>\n",
       "      <td>6</td>\n",
       "      <td>258.0</td>\n",
       "      <td>110</td>\n",
       "      <td>3.08</td>\n",
       "      <td>3.215</td>\n",
       "      <td>19.44</td>\n",
       "      <td>1</td>\n",
       "      <td>0</td>\n",
       "      <td>3</td>\n",
       "      <td>1</td>\n",
       "    </tr>\n",
       "    <tr>\n",
       "      <th>4</th>\n",
       "      <td>Hornet Sportabout</td>\n",
       "      <td>18.7</td>\n",
       "      <td>8</td>\n",
       "      <td>360.0</td>\n",
       "      <td>175</td>\n",
       "      <td>3.15</td>\n",
       "      <td>3.440</td>\n",
       "      <td>17.02</td>\n",
       "      <td>0</td>\n",
       "      <td>0</td>\n",
       "      <td>3</td>\n",
       "      <td>2</td>\n",
       "    </tr>\n",
       "  </tbody>\n",
       "</table>\n",
       "</div>"
      ],
      "text/plain": [
       "          Unnamed: 0   mpg  cyl   disp   hp  drat     wt   qsec  vs  am  gear  \\\n",
       "0          Mazda RX4  21.0    6  160.0  110  3.90  2.620  16.46   0   1     4   \n",
       "1      Mazda RX4 Wag  21.0    6  160.0  110  3.90  2.875  17.02   0   1     4   \n",
       "2         Datsun 710  22.8    4  108.0   93  3.85  2.320  18.61   1   1     4   \n",
       "3     Hornet 4 Drive  21.4    6  258.0  110  3.08  3.215  19.44   1   0     3   \n",
       "4  Hornet Sportabout  18.7    8  360.0  175  3.15  3.440  17.02   0   0     3   \n",
       "\n",
       "   carb  \n",
       "0     4  \n",
       "1     4  \n",
       "2     1  \n",
       "3     1  \n",
       "4     2  "
      ]
     },
     "execution_count": 3,
     "metadata": {},
     "output_type": "execute_result"
    }
   ],
   "source": [
    "cars_file = 'https://gist.githubusercontent.com/noamross/e5d3e859aa0c794be10b/raw/b999fb4425b54c63cab088c0ce2c0d6ce961a563/cars.csv'\n",
    "cars = pd.read_csv(cars_file)\n",
    "cars.head()"
   ]
  },
  {
   "cell_type": "code",
   "execution_count": 4,
   "id": "313e5675",
   "metadata": {
    "tags": [],
    "title": "visualise the model"
   },
   "outputs": [
    {
     "data": {
      "text/plain": [
       "<AxesSubplot:xlabel='wt', ylabel='mpg'>"
      ]
     },
     "execution_count": 4,
     "metadata": {},
     "output_type": "execute_result"
    },
    {
     "data": {
      "image/png": "[encoded data removed]",
      "text/plain": [
       "<Figure size 432x288 with 1 Axes>"
      ]
     },
     "metadata": {
      "needs_background": "light"
     },
     "output_type": "display_data"
    }
   ],
   "source": [
    "sns.scatterplot(x='wt', y='mpg', data=cars)\n",
    "sns.regplot(x='wt', y='mpg', data=cars)"
   ]
  },
  {
   "cell_type": "code",
   "execution_count": 5,
   "id": "c4547220",
   "metadata": {
    "lines_to_next_cell": 2,
    "tags": [],
    "title": "convert data to tensor"
   },
   "outputs": [],
   "source": [
    "X_list = cars.wt.values\n",
    "X_np = np.array(X_list, dtype=np.float32).reshape(-1,1)\n",
    "y_list = cars.mpg.values.tolist()\n",
    "y_np = np.array(y_list, dtype=np.float32).reshape(-1,1)\n",
    "X = torch.from_numpy(X_np)\n",
    "y = torch.tensor(y_list)"
   ]
  },
  {
   "cell_type": "code",
   "execution_count": 6,
   "id": "8a38dafe",
   "metadata": {
    "tags": [],
    "title": "training"
   },
   "outputs": [
    {
     "name": "stdout",
     "output_type": "stream",
     "text": [
      "tensor(151.3811, dtype=torch.float64)\n",
      "tensor(79.1905, dtype=torch.float64)\n",
      "tensor(53.8855, dtype=torch.float64)\n",
      "tensor(43.7902, dtype=torch.float64)\n",
      "tensor(39.3350, dtype=torch.float64)\n",
      "tensor(37.1725, dtype=torch.float64)\n",
      "tensor(35.9929, dtype=torch.float64)\n",
      "tensor(35.2473, dtype=torch.float64)\n",
      "tensor(34.6969, dtype=torch.float64)\n",
      "tensor(34.2362, dtype=torch.float64)\n",
      "tensor(33.8180, dtype=torch.float64)\n",
      "tensor(33.4211, dtype=torch.float64)\n",
      "tensor(33.0359, dtype=torch.float64)\n",
      "tensor(32.6583, dtype=torch.float64)\n",
      "tensor(32.2861, dtype=torch.float64)\n",
      "tensor(31.9186, dtype=torch.float64)\n",
      "tensor(31.5552, dtype=torch.float64)\n",
      "tensor(31.1959, dtype=torch.float64)\n",
      "tensor(30.8404, dtype=torch.float64)\n",
      "tensor(30.4887, dtype=torch.float64)\n",
      "tensor(30.1407, dtype=torch.float64)\n",
      "tensor(29.7964, dtype=torch.float64)\n",
      "tensor(29.4558, dtype=torch.float64)\n",
      "tensor(29.1188, dtype=torch.float64)\n",
      "tensor(28.7853, dtype=torch.float64)\n",
      "tensor(28.4554, dtype=torch.float64)\n",
      "tensor(28.1290, dtype=torch.float64)\n",
      "tensor(27.8061, dtype=torch.float64)\n",
      "tensor(27.4866, dtype=torch.float64)\n",
      "tensor(27.1705, dtype=torch.float64)\n",
      "tensor(26.8577, dtype=torch.float64)\n",
      "tensor(26.5483, dtype=torch.float64)\n",
      "tensor(26.2422, dtype=torch.float64)\n",
      "tensor(25.9393, dtype=torch.float64)\n",
      "tensor(25.6396, dtype=torch.float64)\n",
      "tensor(25.3432, dtype=torch.float64)\n",
      "tensor(25.0499, dtype=torch.float64)\n",
      "tensor(24.7598, dtype=torch.float64)\n",
      "tensor(24.4727, dtype=torch.float64)\n",
      "tensor(24.1887, dtype=torch.float64)\n",
      "tensor(23.9078, dtype=torch.float64)\n",
      "tensor(23.6298, dtype=torch.float64)\n",
      "tensor(23.3548, dtype=torch.float64)\n",
      "tensor(23.0828, dtype=torch.float64)\n",
      "tensor(22.8137, dtype=torch.float64)\n",
      "tensor(22.5474, dtype=torch.float64)\n",
      "tensor(22.2840, dtype=torch.float64)\n",
      "tensor(22.0235, dtype=torch.float64)\n",
      "tensor(21.7657, dtype=torch.float64)\n",
      "tensor(21.5107, dtype=torch.float64)\n",
      "tensor(21.2585, dtype=torch.float64)\n",
      "tensor(21.0089, dtype=torch.float64)\n",
      "tensor(20.7620, dtype=torch.float64)\n",
      "tensor(20.5178, dtype=torch.float64)\n",
      "tensor(20.2763, dtype=torch.float64)\n",
      "tensor(20.0373, dtype=torch.float64)\n",
      "tensor(19.8009, dtype=torch.float64)\n",
      "tensor(19.5670, dtype=torch.float64)\n",
      "tensor(19.3357, dtype=torch.float64)\n",
      "tensor(19.1069, dtype=torch.float64)\n",
      "tensor(18.8805, dtype=torch.float64)\n",
      "tensor(18.6566, dtype=torch.float64)\n",
      "tensor(18.4351, dtype=torch.float64)\n",
      "tensor(18.2160, dtype=torch.float64)\n",
      "tensor(17.9993, dtype=torch.float64)\n",
      "tensor(17.7849, dtype=torch.float64)\n",
      "tensor(17.5729, dtype=torch.float64)\n",
      "tensor(17.3631, dtype=torch.float64)\n",
      "tensor(17.1557, dtype=torch.float64)\n",
      "tensor(16.9504, dtype=torch.float64)\n",
      "tensor(16.7474, dtype=torch.float64)\n",
      "tensor(16.5467, dtype=torch.float64)\n",
      "tensor(16.3481, dtype=torch.float64)\n",
      "tensor(16.1516, dtype=torch.float64)\n",
      "tensor(15.9573, dtype=torch.float64)\n",
      "tensor(15.7652, dtype=torch.float64)\n",
      "tensor(15.5751, dtype=torch.float64)\n",
      "tensor(15.3871, dtype=torch.float64)\n",
      "tensor(15.2011, dtype=torch.float64)\n",
      "tensor(15.0172, dtype=torch.float64)\n",
      "tensor(14.8353, dtype=torch.float64)\n",
      "tensor(14.6554, dtype=torch.float64)\n",
      "tensor(14.4774, dtype=torch.float64)\n",
      "tensor(14.3014, dtype=torch.float64)\n",
      "tensor(14.1273, dtype=torch.float64)\n",
      "tensor(13.9552, dtype=torch.float64)\n",
      "tensor(13.7849, dtype=torch.float64)\n",
      "tensor(13.6165, dtype=torch.float64)\n",
      "tensor(13.4499, dtype=torch.float64)\n",
      "tensor(13.2852, dtype=torch.float64)\n",
      "tensor(13.1223, dtype=torch.float64)\n",
      "tensor(12.9612, dtype=torch.float64)\n",
      "tensor(12.8019, dtype=torch.float64)\n",
      "tensor(12.6443, dtype=torch.float64)\n",
      "tensor(12.4885, dtype=torch.float64)\n",
      "tensor(12.3344, dtype=torch.float64)\n",
      "tensor(12.1820, dtype=torch.float64)\n",
      "tensor(12.0312, dtype=torch.float64)\n",
      "tensor(11.8822, dtype=torch.float64)\n",
      "tensor(11.7348, dtype=torch.float64)\n"
     ]
    }
   ],
   "source": [
    "w = torch.rand(1, requires_grad=True, dtype=torch.float64)\n",
    "b = torch.rand(1, requires_grad=True, dtype=torch.float64)\n",
    "\n",
    "num_epochs = 100\n",
    "learning_rate = 1e-3\n",
    "for epoch in range(num_epochs):\n",
    "  for i in range(len(X)):\n",
    "    # x, y = torch.tensor(X_list[i]), torch.tensor(y_list[i])\n",
    "    # forward pass\n",
    "    y_predict = X[i] * w + b\n",
    "    # calculate loss\n",
    "    loss_tensor = torch.pow(y_predict - y[i], 2)\n",
    "    # backward pass\n",
    "    loss_tensor.backward()\n",
    "    # extract losses\n",
    "    loss_value = loss_tensor.data[0]\n",
    "    # update weights and biases\n",
    "    with torch.no_grad():\n",
    "      w -= w.grad * learning_rate\n",
    "      b -= b.grad * learning_rate\n",
    "      w.grad.zero_()\n",
    "      b.grad.zero_()\n",
    "  print(loss_value)"
   ]
  },
  {
   "cell_type": "code",
   "execution_count": 7,
   "id": "513449f5",
   "metadata": {
    "lines_to_next_cell": 0,
    "title": "check results"
   },
   "outputs": [
    {
     "name": "stdout",
     "output_type": "stream",
     "text": [
      "Weight: 0.9690294094758376, Bias: 15.340292499185963\n"
     ]
    }
   ],
   "source": [
    "print(f\"Weight: {w.item()}, Bias: {b.item()}\")"
   ]
  },
  {
   "cell_type": "code",
   "execution_count": 8,
   "id": "d6e66a7c",
   "metadata": {
    "lines_to_next_cell": 0
   },
   "outputs": [],
   "source": [
    "y_pred = (torch.tensor(X_list)*w+b).detach().numpy()"
   ]
  },
  {
   "cell_type": "code",
   "execution_count": 9,
   "id": "6e8bbc63",
   "metadata": {
    "lines_to_next_cell": 0
   },
   "outputs": [
    {
     "data": {
      "text/plain": [
       "<AxesSubplot:>"
      ]
     },
     "execution_count": 9,
     "metadata": {},
     "output_type": "execute_result"
    },
    {
     "data": {
      "image/png": "[encoded data removed]",
      "text/plain": [
       "<Figure size 432x288 with 1 Axes>"
      ]
     },
     "metadata": {
      "needs_background": "light"
     },
     "output_type": "display_data"
    }
   ],
   "source": [
    "sns.scatterplot(x=X_list, y=y_list)\n",
    "sns.lineplot(x=X_list, y=y_pred, color='red')"
   ]
  },
  {
   "cell_type": "code",
   "execution_count": 10,
   "id": "249a6b36",
   "metadata": {
    "lines_to_next_cell": 2,
    "title": "(Statistical) Linear Regression"
   },
   "outputs": [
    {
     "name": "stdout",
     "output_type": "stream",
     "text": [
      "Slope: [-5.3444715], Bias: 37.285125732421875\n"
     ]
    }
   ],
   "source": [
    "from sklearn.linear_model import LinearRegression\n",
    "reg = LinearRegression().fit(X_np, y_list)\n",
    "print(f\"Slope: {reg.coef_}, Bias: {reg.intercept_}\")"
   ]
  },
  {
   "cell_type": "code",
   "execution_count": 11,
   "id": "91ea3359-9cb3-4654-9058-7b3227e8bb56",
   "metadata": {
    "tags": []
   },
   "outputs": [],
   "source": [
    "#import os\n",
    "#os.environ['PATH']"
   ]
  },
  {
   "cell_type": "code",
   "execution_count": 12,
   "id": "ebcbc707-4468-4496-afa6-029101685eb3",
   "metadata": {
    "tags": []
   },
   "outputs": [],
   "source": [
    "#%pip uninstall torchviz -y # installed in site-packages"
   ]
  },
  {
   "cell_type": "code",
   "execution_count": 13,
   "id": "6bdc42ee-1e4b-4c8a-bd66-7753ca7079a7",
   "metadata": {},
   "outputs": [],
   "source": [
    "#%conda uninstall -c conda-forge graphviz # installed in /opt/conda/"
   ]
  },
  {
   "cell_type": "code",
   "execution_count": 14,
   "id": "67921290-4ef4-44e0-93ef-c5ab73fcb7f4",
   "metadata": {
    "tags": []
   },
   "outputs": [
    {
     "name": "stdout",
     "output_type": "stream",
     "text": [
      "Collecting package metadata (current_repodata.json): done\n",
      "Solving environment: done\n",
      "\n",
      "\n",
      "==> WARNING: A newer version of conda exists. <==\n",
      "  current version: 4.10.3\n",
      "  latest version: 22.11.1\n",
      "\n",
      "Please update conda by running\n",
      "\n",
      "    $ conda update -n base -c defaults conda\n",
      "\n",
      "\n",
      "\n",
      "# All requested packages already installed.\n",
      "\n",
      "\n",
      "Note: you may need to restart the kernel to use updated packages.\n"
     ]
    }
   ],
   "source": [
    "#%conda install -c conda-forge python-graphviz"
   ]
  },
  {
   "cell_type": "code",
   "execution_count": 25,
   "id": "3e69c8cc-8a61-46f5-80bf-a88ccb85cf6f",
   "metadata": {
    "tags": []
   },
   "outputs": [
    {
     "name": "stdout",
     "output_type": "stream",
     "text": [
      "Requirement already satisfied: graphviz in /opt/conda/lib/python3.6/site-packages (0.19.1)\n",
      "\u001b[33mWARNING: Running pip as the 'root' user can result in broken permissions and conflicting behaviour with the system package manager. It is recommended to use a virtual environment instead: https://pip.pypa.io/warnings/venv\u001b[0m\n",
      "Note: you may need to restart the kernel to use updated packages.\n"
     ]
    }
   ],
   "source": [
    "#%pip install graphviz"
   ]
  },
  {
   "cell_type": "code",
   "execution_count": 2,
   "id": "8a380b27-9d54-4b72-8736-97d29e7e7bd8",
   "metadata": {
    "tags": []
   },
   "outputs": [
    {
     "ename": "ModuleNotFoundError",
     "evalue": "No module named 'mymodule'",
     "output_type": "error",
     "traceback": [
      "\u001b[0;31m---------------------------------------------------------------------------\u001b[0m",
      "\u001b[0;31mModuleNotFoundError\u001b[0m                       Traceback (most recent call last)",
      "\u001b[0;32m<ipython-input-2-2fe848b13500>\u001b[0m in \u001b[0;36m<module>\u001b[0;34m\u001b[0m\n\u001b[1;32m      1\u001b[0m \u001b[0;31m#!pip uninstall torchviz -y\u001b[0m\u001b[0;34m\u001b[0m\u001b[0;34m\u001b[0m\u001b[0;34m\u001b[0m\u001b[0m\n\u001b[1;32m      2\u001b[0m \u001b[0;31m#%pip install mymodule\u001b[0m\u001b[0;34m\u001b[0m\u001b[0;34m\u001b[0m\u001b[0;34m\u001b[0m\u001b[0m\n\u001b[0;32m----> 3\u001b[0;31m \u001b[0;32mimport\u001b[0m \u001b[0mmymodule\u001b[0m\u001b[0;34m\u001b[0m\u001b[0;34m\u001b[0m\u001b[0m\n\u001b[0m",
      "\u001b[0;31mModuleNotFoundError\u001b[0m: No module named 'mymodule'"
     ]
    }
   ],
   "source": [
    "#!pip uninstall torchviz -y\n",
    "#%pip install mymodule\n",
    "import mymodule"
   ]
  },
  {
   "cell_type": "code",
   "execution_count": null,
   "id": "fe1c5bec-32ee-49aa-94ff-308b5192a862",
   "metadata": {
    "tags": []
   },
   "outputs": [],
   "source": [
    "#import os\n",
    "#os.environ['PATH'] += os.pathsep + '/opt/conda/'\n",
    "#os.environ['PATH']"
   ]
  },
  {
   "cell_type": "code",
   "execution_count": 22,
   "id": "11e00c0f",
   "metadata": {
    "lines_to_next_cell": 0,
    "title": "create graph visualisation"
   },
   "outputs": [
    {
     "ename": "ModuleNotFoundError",
     "evalue": "No module named 'torchviz'",
     "output_type": "error",
     "traceback": [
      "\u001b[0;31m---------------------------------------------------------------------------\u001b[0m",
      "\u001b[0;31mModuleNotFoundError\u001b[0m                       Traceback (most recent call last)",
      "\u001b[0;32m<ipython-input-22-c4691d39f55d>\u001b[0m in \u001b[0;36m<module>\u001b[0;34m\u001b[0m\n\u001b[1;32m      2\u001b[0m \u001b[0;31m# if not computer restarted, append directly to PATH variable\u001b[0m\u001b[0;34m\u001b[0m\u001b[0;34m\u001b[0m\u001b[0;34m\u001b[0m\u001b[0m\n\u001b[1;32m      3\u001b[0m \u001b[0;32mimport\u001b[0m \u001b[0mos\u001b[0m\u001b[0;34m\u001b[0m\u001b[0;34m\u001b[0m\u001b[0m\n\u001b[0;32m----> 4\u001b[0;31m \u001b[0;32mfrom\u001b[0m \u001b[0mtorchviz\u001b[0m \u001b[0;32mimport\u001b[0m \u001b[0mmake_dot\u001b[0m\u001b[0;34m\u001b[0m\u001b[0;34m\u001b[0m\u001b[0m\n\u001b[0m\u001b[1;32m      5\u001b[0m \u001b[0;31m#os.environ['PATH'] += os.pathsep + '/opt/conda/'\u001b[0m\u001b[0;34m\u001b[0m\u001b[0;34m\u001b[0m\u001b[0;34m\u001b[0m\u001b[0m\n\u001b[1;32m      6\u001b[0m \u001b[0mmake_dot\u001b[0m\u001b[0;34m(\u001b[0m\u001b[0mloss_tensor\u001b[0m\u001b[0;34m)\u001b[0m\u001b[0;34m\u001b[0m\u001b[0;34m\u001b[0m\u001b[0m\n",
      "\u001b[0;31mModuleNotFoundError\u001b[0m: No module named 'torchviz'"
     ]
    }
   ],
   "source": [
    "# make sure GraphViz is installed (https://graphviz.org/download/)\n",
    "# if not computer restarted, append directly to PATH variable\n",
    "import os\n",
    "from torchviz import make_dot\n",
    "#os.environ['PATH'] += os.pathsep + '/opt/conda/'\n",
    "make_dot(loss_tensor)"
   ]
  },
  {
   "cell_type": "code",
   "execution_count": null,
   "id": "33f55c19",
   "metadata": {},
   "outputs": [],
   "source": []
  }
 ],
 "metadata": {
  "instance_type": "ml.t3.medium",
  "jupytext": {
   "cell_metadata_filter": "title,-all",
   "main_language": "python",
   "notebook_metadata_filter": "-all"
  },
  "kernelspec": {
   "display_name": "Python 3 (PyTorch 1.8 Python 3.6 GPU Optimized)",
   "language": "python",
   "name": "python3__SAGEMAKER_INTERNAL__arn:aws:sagemaker:us-west-2:236514542706:image/pytorch-1.8-gpu-py36"
  },
  "language_info": {
   "codemirror_mode": {
    "name": "ipython",
    "version": 3
   },
   "file_extension": ".py",
   "mimetype": "text/x-python",
   "name": "python",
   "nbconvert_exporter": "python",
   "pygments_lexer": "ipython3",
   "version": "3.6.13"
  }
 },
 "nbformat": 4,
 "nbformat_minor": 5
}

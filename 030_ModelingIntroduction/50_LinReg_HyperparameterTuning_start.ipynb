{
 "cells": [
  {
   "cell_type": "code",
   "execution_count": null,
   "id": "59fa883f",
   "metadata": {
    "title": "packages"
   },
   "outputs": [],
   "source": [
    "import numpy as np\n",
    "import pandas as pd\n",
    "import torch\n",
    "import torch.nn as nn\n",
    "from torch.utils.data import Dataset, DataLoader \n",
    "import seaborn as sns"
   ]
  },
  {
   "cell_type": "code",
   "execution_count": null,
   "id": "a218879c",
   "metadata": {
    "title": "data import"
   },
   "outputs": [],
   "source": [
    "cars_file = 'https://gist.githubusercontent.com/noamross/e5d3e859aa0c794be10b/raw/b999fb4425b54c63cab088c0ce2c0d6ce961a563/cars.csv'\n",
    "cars = pd.read_csv(cars_file)\n",
    "cars.head()"
   ]
  },
  {
   "cell_type": "code",
   "execution_count": null,
   "id": "6c647802",
   "metadata": {
    "title": "visualise the model"
   },
   "outputs": [],
   "source": [
    "sns.scatterplot(x='wt', y='mpg', data=cars)\n",
    "sns.regplot(x='wt', y='mpg', data=cars)"
   ]
  },
  {
   "cell_type": "code",
   "execution_count": null,
   "id": "75a952e2",
   "metadata": {
    "lines_to_next_cell": 1,
    "title": "convert data to tensor"
   },
   "outputs": [],
   "source": [
    "X_list = cars.wt.values\n",
    "X_np = np.array(X_list, dtype=np.float32).reshape(-1,1)\n",
    "y_list = cars.mpg.values\n",
    "y_np = np.array(y_list, dtype=np.float32).reshape(-1,1)\n",
    "X = torch.from_numpy(X_np)\n",
    "y_true = torch.from_numpy(y_np)"
   ]
  },
  {
   "cell_type": "code",
   "execution_count": null,
   "id": "a24416ef",
   "metadata": {
    "title": "Dataset and Dataloader"
   },
   "outputs": [],
   "source": [
    "class LinearRegressionDataset(Dataset):\n",
    "    def __init__(self, X, y):\n",
    "        self.X = X\n",
    "        self.y = y\n",
    "    \n",
    "    def __len__(self):\n",
    "        return len(self.X)\n",
    "    \n",
    "    def __getitem__(self, idx):\n",
    "        return self.X[idx], self.y[idx]\n",
    "\n",
    "train_loader = DataLoader(dataset = LinearRegressionDataset(X_np, y_np), batch_size=2)"
   ]
  },
  {
   "cell_type": "code",
   "execution_count": null,
   "id": "ccd7c724",
   "metadata": {},
   "outputs": [],
   "source": [
    "class LinearRegressionTorch(nn.Module):\n",
    "    def __init__(self, input_size=1, output_size=1):\n",
    "        super(LinearRegressionTorch, self).__init__()\n",
    "        self.linear = nn.Linear(input_size, output_size)\n",
    "    \n",
    "    def forward(self, x):\n",
    "        return self.linear(x)\n",
    "\n",
    "input_dim = 1\n",
    "output_dim = 1\n",
    "model = LinearRegressionTorch(input_size=input_dim, output_size=output_dim)\n",
    "model.train()"
   ]
  },
  {
   "cell_type": "code",
   "execution_count": null,
   "id": "da67b2ff",
   "metadata": {
    "title": "Mean Squared Error"
   },
   "outputs": [],
   "source": [
    "loss_fun = nn.MSELoss()"
   ]
  },
  {
   "cell_type": "code",
   "execution_count": null,
   "id": "adce4721",
   "metadata": {
    "lines_to_next_cell": 2,
    "title": "Optimizer"
   },
   "outputs": [],
   "source": [
    "learning_rate = 0.02\n",
    "# test different values of too large 0.1 and too small 0.001\n",
    "# best 0.02\n",
    "optimizer = torch.optim.SGD(model.parameters(), lr=learning_rate)"
   ]
  },
  {
   "cell_type": "code",
   "execution_count": null,
   "id": "9dd23766",
   "metadata": {},
   "outputs": [],
   "source": []
  }
 ],
 "metadata": {
  "jupytext": {
   "cell_metadata_filter": "title,-all",
   "main_language": "python",
   "notebook_metadata_filter": "-all"
  }
 },
 "nbformat": 4,
 "nbformat_minor": 5
}

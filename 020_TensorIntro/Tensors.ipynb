{
 "cells": [
  {
   "cell_type": "code",
   "execution_count": null,
   "id": "289d5494",
   "metadata": {
    "title": "packages"
   },
   "outputs": [],
   "source": [
    "import torch\n",
    "import seaborn as sns\n",
    "import numpy as np"
   ]
  },
  {
   "cell_type": "code",
   "execution_count": null,
   "id": "a2dc4279",
   "metadata": {
    "title": "create a tensor"
   },
   "outputs": [],
   "source": [
    "x = torch.tensor(5.5)"
   ]
  },
  {
   "cell_type": "code",
   "execution_count": null,
   "id": "58972ee3",
   "metadata": {
    "title": "simple calculations"
   },
   "outputs": [],
   "source": [
    "y = x + 10\n",
    "print(y)"
   ]
  },
  {
   "cell_type": "code",
   "execution_count": null,
   "id": "ef980e65",
   "metadata": {
    "title": "automatic gradient calculation"
   },
   "outputs": [],
   "source": [
    "\n",
    "# check if requires_grad is true, false if not directly specified\n",
    "print(x.requires_grad)\n",
    "\n",
    "x.requires_grad_()  # set requires grad to true, default True"
   ]
  },
  {
   "cell_type": "code",
   "execution_count": null,
   "id": "99356d2e",
   "metadata": {
    "title": "or set the flag directly during creation"
   },
   "outputs": [],
   "source": [
    "x = torch.tensor(2.0, requires_grad=True)\n",
    "print(x.requires_grad)"
   ]
  },
  {
   "cell_type": "code",
   "execution_count": null,
   "id": "6cf63bf8",
   "metadata": {
    "title": "function for showing automatic gradient calculation"
   },
   "outputs": [],
   "source": [
    "\n",
    "\n",
    "def y_function(val):\n",
    "    return (val-3) * (val-6) * (val-4)\n",
    "\n",
    "\n",
    "x_range = np.linspace(0, 10, 101)\n",
    "x_range\n",
    "y_range = [y_function(i) for i in x_range]\n",
    "sns.lineplot(x=x_range, y=y_range)"
   ]
  },
  {
   "cell_type": "code",
   "execution_count": null,
   "id": "b0f473bb",
   "metadata": {
    "title": "define y as function of x"
   },
   "outputs": [],
   "source": [
    "y = (x-3) * (x-6) * (x-4)\n",
    "print(y)"
   ]
  },
  {
   "cell_type": "code",
   "execution_count": null,
   "id": "6085f4cb",
   "metadata": {},
   "outputs": [],
   "source": []
  },
  {
   "cell_type": "code",
   "execution_count": null,
   "id": "6daa2a84",
   "metadata": {
    "title": "x -> y"
   },
   "outputs": [],
   "source": [
    "# create a tensor with gradients enabled\n",
    "x = torch.tensor(1.0, requires_grad=True)\n",
    "# create second tensor depending on first tensor\n",
    "y = (x-3) * (x-6) * (x-4)\n",
    "# calculate gradients\n",
    "y.backward()\n",
    "# show gradient of first tensor\n",
    "print(x.grad)"
   ]
  },
  {
   "cell_type": "code",
   "execution_count": null,
   "id": "03181e5c",
   "metadata": {
    "title": "x -> y -> z"
   },
   "outputs": [],
   "source": [
    "x = torch.tensor(1.0, requires_grad=True)\n",
    "y = x**3\n",
    "z = 5*y - 4"
   ]
  },
  {
   "cell_type": "code",
   "execution_count": null,
   "id": "79452d38",
   "metadata": {},
   "outputs": [],
   "source": [
    "z.backward()\n",
    "print(x.grad)  # should be equal 5*3x**2"
   ]
  },
  {
   "cell_type": "code",
   "execution_count": null,
   "id": "9d91ccd4",
   "metadata": {
    "title": "more complex network"
   },
   "outputs": [],
   "source": [
    "x11 = torch.tensor(2.0, requires_grad=True)\n",
    "x21 = torch.tensor(3.0, requires_grad=True)\n",
    "x12 = 5 * x11 - 3 * x21\n",
    "x22 = 2 * x11**2 + 2 * x21\n",
    "y = 4 * x12 + 3 * x22\n",
    "y.backward()\n",
    "print(x11.grad)\n",
    "print(x21.grad)"
   ]
  },
  {
   "cell_type": "code",
   "execution_count": null,
   "id": "25d51772",
   "metadata": {},
   "outputs": [],
   "source": []
  }
 ],
 "metadata": {
  "jupytext": {
   "cell_metadata_filter": "title,-all",
   "main_language": "python",
   "notebook_metadata_filter": "-all"
  }
 },
 "nbformat": 4,
 "nbformat_minor": 5
}

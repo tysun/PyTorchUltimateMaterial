{
  "cells": [
    {
      "cell_type": "code",
      "metadata": {},
      "source": [
        "# %% packages\n",
        "import torch\n",
        "import seaborn as sns\n",
        "import numpy as np\n",
        "\n",
        "# %% create a tensor\n",
        "x = torch.tensor(5.5)\n",
        "\n",
        "# %% simple calculations\n",
        "y = x + 10\n",
        "print(y)\n",
        "\n",
        "# %% automatic gradient calculation\n",
        "\n",
        "# check if requires_grad is true, false if not directly specified\n",
        "print(x.requires_grad)\n",
        "\n",
        "x.requires_grad_()  # set requires grad to true, default True\n",
        "\n",
        "# %% or set the flag directly during creation\n",
        "x = torch.tensor(2.0, requires_grad=True)\n",
        "print(x.requires_grad)\n",
        "\n",
        "# %% function for showing automatic gradient calculation\n",
        "\n",
        "\n",
        "def y_function(val):\n",
        "    return (val-3) * (val-6) * (val-4)\n",
        "\n",
        "\n",
        "x_range = np.linspace(0, 10, 101)\n",
        "x_range\n",
        "y_range = [y_function(i) for i in x_range]\n",
        "sns.lineplot(x=x_range, y=y_range)\n",
        "\n",
        "# %% define y as function of x\n",
        "y = (x-3) * (x-6) * (x-4)\n",
        "print(y)\n",
        "# %%\n",
        "\n",
        "# %% x -> y\n",
        "# create a tensor with gradients enabled\n",
        "x = torch.tensor(1.0, requires_grad=True)\n",
        "# create second tensor depending on first tensor\n",
        "y = (x-3) * (x-6) * (x-4)\n",
        "# calculate gradients\n",
        "y.backward()\n",
        "# show gradient of first tensor\n",
        "print(x.grad)\n",
        "\n",
        "# %% x -> y -> z\n",
        "x = torch.tensor(1.0, requires_grad=True)\n",
        "y = x**3\n",
        "z = 5*y - 4"
      ],
      "outputs": [],
      "execution_count": null
    },
    {
      "cell_type": "code",
      "metadata": {},
      "source": [
        "z.backward()\n",
        "print(x.grad)  # should be equal 5*3x**2\n",
        "\n",
        "# %% more complex network\n",
        "x11 = torch.tensor(2.0, requires_grad=True)\n",
        "x21 = torch.tensor(3.0, requires_grad=True)\n",
        "x12 = 5 * x11 - 3 * x21\n",
        "x22 = 2 * x11**2 + 2 * x21\n",
        "y = 4 * x12 + 3 * x22\n",
        "y.backward()\n",
        "print(x11.grad)\n",
        "print(x21.grad)"
      ],
      "outputs": [],
      "execution_count": null
    },
    {
      "cell_type": "code",
      "metadata": {},
      "source": [],
      "outputs": [],
      "execution_count": null
    }
  ],
  "metadata": {
    "anaconda-cloud": {},
    "kernelspec": {
      "display_name": "Python 3",
      "language": "python",
      "name": "python3"
    },
    "language_info": {
      "codemirror_mode": {
        "name": "ipython",
        "version": 3
      },
      "file_extension": ".py",
      "mimetype": "text/x-python",
      "name": "python",
      "nbconvert_exporter": "python",
      "pygments_lexer": "ipython3",
      "version": "3.6.1"
    }
  },
  "nbformat": 4,
  "nbformat_minor": 4
}
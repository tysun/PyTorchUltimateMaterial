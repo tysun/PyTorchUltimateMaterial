{
 "cells": [
  {
   "cell_type": "code",
   "execution_count": 2,
   "id": "e0c62510-c440-42bf-995a-d89f44ca50e1",
   "metadata": {
    "tags": []
   },
   "outputs": [],
   "source": [
    "#!pip install torch\n",
    "#!pip install seaborn\n",
    "#!pip install numpy"
   ]
  },
  {
   "cell_type": "code",
   "execution_count": 3,
   "id": "289d5494",
   "metadata": {
    "title": "packages"
   },
   "outputs": [],
   "source": [
    "import torch\n",
    "import seaborn as sns\n",
    "import numpy as np"
   ]
  },
  {
   "cell_type": "code",
   "execution_count": 4,
   "id": "a2dc4279",
   "metadata": {
    "title": "create a tensor"
   },
   "outputs": [],
   "source": [
    "x = torch.tensor(5.5)"
   ]
  },
  {
   "cell_type": "code",
   "execution_count": 5,
   "id": "58972ee3",
   "metadata": {
    "title": "simple calculations"
   },
   "outputs": [
    {
     "name": "stdout",
     "output_type": "stream",
     "text": [
      "tensor(15.5000)\n"
     ]
    }
   ],
   "source": [
    "y = x + 10\n",
    "print(y)"
   ]
  },
  {
   "cell_type": "code",
   "execution_count": 6,
   "id": "ef980e65",
   "metadata": {
    "title": "automatic gradient calculation"
   },
   "outputs": [
    {
     "name": "stdout",
     "output_type": "stream",
     "text": [
      "False\n"
     ]
    },
    {
     "data": {
      "text/plain": [
       "tensor(5.5000, requires_grad=True)"
      ]
     },
     "execution_count": 6,
     "metadata": {},
     "output_type": "execute_result"
    }
   ],
   "source": [
    "\n",
    "# check if requires_grad is true, false if not directly specified\n",
    "print(x.requires_grad)\n",
    "\n",
    "x.requires_grad_()  # set requires grad to true, default True"
   ]
  },
  {
   "cell_type": "code",
   "execution_count": 7,
   "id": "99356d2e",
   "metadata": {
    "title": "or set the flag directly during creation"
   },
   "outputs": [
    {
     "name": "stdout",
     "output_type": "stream",
     "text": [
      "True\n"
     ]
    }
   ],
   "source": [
    "x = torch.tensor(2.0, requires_grad=True)\n",
    "print(x.requires_grad)"
   ]
  },
  {
   "cell_type": "code",
   "execution_count": 8,
   "id": "6cf63bf8",
   "metadata": {
    "title": "function for showing automatic gradient calculation"
   },
   "outputs": [
    {
     "data": {
      "text/plain": [
       "<AxesSubplot:>"
      ]
     },
     "execution_count": 8,
     "metadata": {},
     "output_type": "execute_result"
    },
    {
     "data": {
      "image/png": "[encoded data removed]",
      "text/plain": [
       "<Figure size 432x288 with 1 Axes>"
      ]
     },
     "metadata": {
      "needs_background": "light"
     },
     "output_type": "display_data"
    }
   ],
   "source": [
    "\n",
    "\n",
    "def y_function(val):\n",
    "    return (val-3) * (val-6) * (val-4)\n",
    "\n",
    "\n",
    "x_range = np.linspace(0, 10, 101)\n",
    "x_range\n",
    "y_range = [y_function(i) for i in x_range]\n",
    "sns.lineplot(x=x_range, y=y_range)"
   ]
  },
  {
   "cell_type": "code",
   "execution_count": 9,
   "id": "b0f473bb",
   "metadata": {
    "title": "define y as function of x"
   },
   "outputs": [
    {
     "name": "stdout",
     "output_type": "stream",
     "text": [
      "tensor(-8., grad_fn=<MulBackward0>)\n"
     ]
    }
   ],
   "source": [
    "y = (x-3) * (x-6) * (x-4)\n",
    "print(y)"
   ]
  },
  {
   "cell_type": "code",
   "execution_count": 10,
   "id": "6daa2a84",
   "metadata": {
    "title": "x -> y"
   },
   "outputs": [
    {
     "name": "stdout",
     "output_type": "stream",
     "text": [
      "tensor(31.)\n"
     ]
    }
   ],
   "source": [
    "# create a tensor with gradients enabled\n",
    "x = torch.tensor(1.0, requires_grad=True)\n",
    "# create second tensor depending on first tensor\n",
    "y = (x-3) * (x-6) * (x-4)\n",
    "# calculate gradients\n",
    "y.backward()\n",
    "# show gradient of first tensor\n",
    "print(x.grad)"
   ]
  },
  {
   "cell_type": "code",
   "execution_count": 11,
   "id": "03181e5c",
   "metadata": {
    "title": "x -> y -> z"
   },
   "outputs": [],
   "source": [
    "x = torch.tensor(1.0, requires_grad=True)\n",
    "y = x**3\n",
    "z = 5*y - 4"
   ]
  },
  {
   "cell_type": "code",
   "execution_count": 12,
   "id": "79452d38",
   "metadata": {},
   "outputs": [
    {
     "name": "stdout",
     "output_type": "stream",
     "text": [
      "tensor(15.)\n"
     ]
    }
   ],
   "source": [
    "z.backward()\n",
    "print(x.grad)  # should be equal 5*3x**2"
   ]
  },
  {
   "cell_type": "code",
   "execution_count": 13,
   "id": "9d91ccd4",
   "metadata": {
    "title": "more complex network"
   },
   "outputs": [
    {
     "name": "stdout",
     "output_type": "stream",
     "text": [
      "tensor(44.)\n",
      "tensor(-6.)\n"
     ]
    }
   ],
   "source": [
    "x11 = torch.tensor(2.0, requires_grad=True)\n",
    "x21 = torch.tensor(3.0, requires_grad=True)\n",
    "x12 = 5 * x11 - 3 * x21\n",
    "x22 = 2 * x11**2 + 2 * x21\n",
    "y = 4 * x12 + 3 * x22\n",
    "y.backward()\n",
    "print(x11.grad)\n",
    "print(x21.grad)"
   ]
  },
  {
   "cell_type": "code",
   "execution_count": null,
   "id": "25d51772",
   "metadata": {},
   "outputs": [],
   "source": []
  }
 ],
 "metadata": {
  "instance_type": "ml.t3.medium",
  "jupytext": {
   "cell_metadata_filter": "title,-all",
   "main_language": "python",
   "notebook_metadata_filter": "-all"
  },
  "kernelspec": {
   "display_name": "Python 3 (PyTorch 1.8 Python 3.6 GPU Optimized)",
   "language": "python",
   "name": "python3__SAGEMAKER_INTERNAL__arn:aws:sagemaker:us-west-2:236514542706:image/pytorch-1.8-gpu-py36"
  },
  "language_info": {
   "codemirror_mode": {
    "name": "ipython",
    "version": 3
   },
   "file_extension": ".py",
   "mimetype": "text/x-python",
   "name": "python",
   "nbconvert_exporter": "python",
   "pygments_lexer": "ipython3",
   "version": "3.6.13"
  }
 },
 "nbformat": 4,
 "nbformat_minor": 5
}
